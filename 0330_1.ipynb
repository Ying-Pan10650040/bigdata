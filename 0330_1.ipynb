{
  "nbformat": 4,
  "nbformat_minor": 0,
  "metadata": {
    "colab": {
      "name": "0330_1.ipynb",
      "provenance": [],
      "collapsed_sections": [],
      "include_colab_link": true
    },
    "kernelspec": {
      "name": "ir",
      "display_name": "R"
    }
  },
  "cells": [
    {
      "cell_type": "markdown",
      "metadata": {
        "id": "view-in-github",
        "colab_type": "text"
      },
      "source": [
        "<a href=\"https://colab.research.google.com/github/Ying-Pan10650040/bigdata/blob/main/0330_1.ipynb\" target=\"_parent\"><img src=\"https://colab.research.google.com/assets/colab-badge.svg\" alt=\"Open In Colab\"/></a>"
      ]
    },
    {
      "cell_type": "code",
      "metadata": {
        "id": "sm-mwKGvIsPH"
      },
      "source": [
        "## ⽂字探勘"
      ],
      "execution_count": null,
      "outputs": []
    },
    {
      "cell_type": "code",
      "metadata": {
        "colab": {
          "base_uri": "https://localhost:8080/"
        },
        "id": "LxWGeQjPLaS8",
        "outputId": "a30419a8-a8b7-424c-ed15-2efe89e55420"
      },
      "source": [
        "install.packages(\"rJava\")\n",
        "install.packages(\"jiebaR\")\n",
        "install.packages(\"tmcn\")\n",
        "install.packages(\"dplyr\")\n",
        "install.packages(\"lubridate\")\n",
        "install.packages(\"wordcloud\")\n",
        "install.packages(\"stringr\")"
      ],
      "execution_count": 102,
      "outputs": [
        {
          "output_type": "stream",
          "text": [
            "Installing package into ‘/usr/local/lib/R/site-library’\n",
            "(as ‘lib’ is unspecified)\n",
            "\n",
            "Installing package into ‘/usr/local/lib/R/site-library’\n",
            "(as ‘lib’ is unspecified)\n",
            "\n",
            "Installing package into ‘/usr/local/lib/R/site-library’\n",
            "(as ‘lib’ is unspecified)\n",
            "\n",
            "Installing package into ‘/usr/local/lib/R/site-library’\n",
            "(as ‘lib’ is unspecified)\n",
            "\n",
            "Installing package into ‘/usr/local/lib/R/site-library’\n",
            "(as ‘lib’ is unspecified)\n",
            "\n",
            "Installing package into ‘/usr/local/lib/R/site-library’\n",
            "(as ‘lib’ is unspecified)\n",
            "\n",
            "Installing package into ‘/usr/local/lib/R/site-library’\n",
            "(as ‘lib’ is unspecified)\n",
            "\n"
          ],
          "name": "stderr"
        }
      ]
    },
    {
      "cell_type": "code",
      "metadata": {
        "id": "bzL0Sh9cNG8P",
        "colab": {
          "base_uri": "https://localhost:8080/"
        },
        "outputId": "a5637dcd-4c03-4904-cdff-651ad1de7f00"
      },
      "source": [
        "install.packages(\"Rwordseg\",repos=\"http://R-Forge.R-porject.org\")"
      ],
      "execution_count": 103,
      "outputs": [
        {
          "output_type": "stream",
          "text": [
            "Installing package into ‘/usr/local/lib/R/site-library’\n",
            "(as ‘lib’ is unspecified)\n",
            "\n",
            "Warning message:\n",
            "“unable to access index for repository http://R-Forge.R-porject.org/src/contrib:\n",
            "  cannot open URL 'http://R-Forge.R-porject.org/src/contrib/PACKAGES'”\n",
            "Warning message:\n",
            "“package ‘Rwordseg’ is not available for this version of R\n",
            "\n",
            "A version of this package for your version of R might be available elsewhere,\n",
            "see the ideas at\n",
            "https://cran.r-project.org/doc/manuals/r-patched/R-admin.html#Installing-packages”\n"
          ],
          "name": "stderr"
        }
      ]
    },
    {
      "cell_type": "code",
      "metadata": {
        "id": "BfNHNVMkNiIW"
      },
      "source": [
        "library(rJava)\n",
        "library(jiebaR)\n",
        "library(tmcn)\n",
        "library(dplyr)\n",
        "library(lubridate)\n",
        "library(wordcloud)\n",
        "library(stringr)"
      ],
      "execution_count": 104,
      "outputs": []
    },
    {
      "cell_type": "code",
      "metadata": {
        "id": "B2aG-nBJN01B"
      },
      "source": [
        "content <- \"嚴重特殊傳染性肺炎疫情持續在全球蔓延，已造成三千多萬⼈感染，死亡⼈數破百萬⼈，歐美醫療體系幾近崩潰，各種⾏動限制對於各國之經濟更有莫⼤之衝擊。然⽽台灣未實⾏⼤規模封鎖⾏動，維持正常上班上課與各種經濟活動，至今無⼤規模疫情爆發，醫療體系也仍能正常提供民眾服務，顯⽰台灣的防疫政策正確⽽有效，獲得世界各國⾼度肯定。國家衛⽣研究院群體健康科學研究所與感染症與疫苗研究所合作，利⽤真實數據與數學模型證實，良好的邊境管控，詳盡的疫情調查，確實的隔離與檢疫，以及民眾遵⾏防疫措施，為台灣抗疫四⼤⽀柱。台灣也對世界各國提供各項協助與經驗分享，期望幫助各國盡快從疫情的陰霾中⾛出。\""
      ],
      "execution_count": 105,
      "outputs": []
    },
    {
      "cell_type": "code",
      "metadata": {
        "id": "vT0hRQDiN8tz",
        "colab": {
          "base_uri": "https://localhost:8080/",
          "height": 68
        },
        "outputId": "5b7b06ad-2eca-4e9b-8cae-d6199fb7a499"
      },
      "source": [
        "content"
      ],
      "execution_count": 106,
      "outputs": [
        {
          "output_type": "display_data",
          "data": {
            "text/plain": [
              "[1] \"嚴重特殊傳染性肺炎疫情持續在全球蔓延，已造成三千多萬⼈感染，死亡⼈數破百萬⼈，歐美醫療體系幾近崩潰，各種⾏動限制對於各國之經濟更有莫⼤之衝擊。然⽽台灣未實⾏⼤規模封鎖⾏動，維持正常上班上課與各種經濟活動，至今無⼤規模疫情爆發，醫療體系也仍能正常提供民眾服務，顯⽰台灣的防疫政策正確⽽有效，獲得世界各國⾼度肯定。國家衛⽣研究院群體健康科學研究所與感染症與疫苗研究所合作，利⽤真實數據與數學模型證實，良好的邊境管控，詳盡的疫情調查，確實的隔離與檢疫，以及民眾遵⾏防疫措施，為台灣抗疫四⼤⽀柱。台灣也對世界各國提供各項協助與經驗分享，期望幫助各國盡快從疫情的陰霾中⾛出。\""
            ],
            "text/latex": "'嚴重特殊傳染性肺炎疫情持續在全球蔓延，已造成三千多萬⼈感染，死亡⼈數破百萬⼈，歐美醫療體系幾近崩潰，各種⾏動限制對於各國之經濟更有莫⼤之衝擊。然⽽台灣未實⾏⼤規模封鎖⾏動，維持正常上班上課與各種經濟活動，至今無⼤規模疫情爆發，醫療體系也仍能正常提供民眾服務，顯⽰台灣的防疫政策正確⽽有效，獲得世界各國⾼度肯定。國家衛⽣研究院群體健康科學研究所與感染症與疫苗研究所合作，利⽤真實數據與數學模型證實，良好的邊境管控，詳盡的疫情調查，確實的隔離與檢疫，以及民眾遵⾏防疫措施，為台灣抗疫四⼤⽀柱。台灣也對世界各國提供各項協助與經驗分享，期望幫助各國盡快從疫情的陰霾中⾛出。'",
            "text/markdown": "'嚴重特殊傳染性肺炎疫情持續在全球蔓延，已造成三千多萬⼈感染，死亡⼈數破百萬⼈，歐美醫療體系幾近崩潰，各種⾏動限制對於各國之經濟更有莫⼤之衝擊。然⽽台灣未實⾏⼤規模封鎖⾏動，維持正常上班上課與各種經濟活動，至今無⼤規模疫情爆發，醫療體系也仍能正常提供民眾服務，顯⽰台灣的防疫政策正確⽽有效，獲得世界各國⾼度肯定。國家衛⽣研究院群體健康科學研究所與感染症與疫苗研究所合作，利⽤真實數據與數學模型證實，良好的邊境管控，詳盡的疫情調查，確實的隔離與檢疫，以及民眾遵⾏防疫措施，為台灣抗疫四⼤⽀柱。台灣也對世界各國提供各項協助與經驗分享，期望幫助各國盡快從疫情的陰霾中⾛出。'",
            "text/html": [
              "'嚴重特殊傳染性肺炎疫情持續在全球蔓延，已造成三千多萬⼈感染，死亡⼈數破百萬⼈，歐美醫療體系幾近崩潰，各種⾏動限制對於各國之經濟更有莫⼤之衝擊。然⽽台灣未實⾏⼤規模封鎖⾏動，維持正常上班上課與各種經濟活動，至今無⼤規模疫情爆發，醫療體系也仍能正常提供民眾服務，顯⽰台灣的防疫政策正確⽽有效，獲得世界各國⾼度肯定。國家衛⽣研究院群體健康科學研究所與感染症與疫苗研究所合作，利⽤真實數據與數學模型證實，良好的邊境管控，詳盡的疫情調查，確實的隔離與檢疫，以及民眾遵⾏防疫措施，為台灣抗疫四⼤⽀柱。台灣也對世界各國提供各項協助與經驗分享，期望幫助各國盡快從疫情的陰霾中⾛出。'"
            ]
          },
          "metadata": {
            "tags": []
          }
        }
      ]
    },
    {
      "cell_type": "code",
      "metadata": {
        "id": "C4MfUBhWN-sW"
      },
      "source": [
        "cutter <- worker(bylines = F)"
      ],
      "execution_count": 107,
      "outputs": []
    },
    {
      "cell_type": "code",
      "metadata": {
        "id": "Q-gFCEy0OL_u",
        "colab": {
          "base_uri": "https://localhost:8080/",
          "height": 85
        },
        "outputId": "2f2d75ce-92a6-4ad9-b40b-0a0af221fab0"
      },
      "source": [
        "cutter[content]"
      ],
      "execution_count": 108,
      "outputs": [
        {
          "output_type": "display_data",
          "data": {
            "text/plain": [
              "  [1] \"嚴重\"     \"特殊\"     \"傳染性\"   \"肺炎\"     \"疫情\"     \"持續\"    \n",
              "  [7] \"在\"       \"全球\"     \"蔓延\"     \"已\"       \"造成\"     \"三千多萬\"\n",
              " [13] \"⼈\"       \"感染\"     \"死亡\"     \"⼈\"       \"數\"       \"破\"      \n",
              " [19] \"百萬\"     \"⼈\"       \"歐美\"     \"醫療\"     \"體系\"     \"幾近\"    \n",
              " [25] \"崩潰\"     \"各種\"     \"⾏\"       \"動\"       \"限制\"     \"對於\"    \n",
              " [31] \"各國\"     \"之\"       \"經濟\"     \"更\"       \"有莫\"     \"⼤\"      \n",
              " [37] \"之\"       \"衝擊\"     \"然\"       \"⽽\"       \"台\"       \"灣\"      \n",
              " [43] \"未\"       \"實\"       \"⾏\"       \"⼤\"       \"規模\"     \"封鎖\"    \n",
              " [49] \"⾏\"       \"動\"       \"維持\"     \"正常\"     \"上班\"     \"上課\"    \n",
              " [55] \"與\"       \"各種\"     \"經濟\"     \"活動\"     \"至今\"     \"無\"      \n",
              " [61] \"⼤\"       \"規模\"     \"疫情\"     \"爆發\"     \"醫療\"     \"體系\"    \n",
              " [67] \"也\"       \"仍\"       \"能\"       \"正常\"     \"提供\"     \"民眾\"    \n",
              " [73] \"服務\"     \"顯\"       \"⽰\"       \"台\"       \"灣\"       \"的\"      \n",
              " [79] \"防疫\"     \"政策\"     \"正確\"     \"⽽\"       \"有效\"     \"獲得\"    \n",
              " [85] \"世界\"     \"各國\"     \"⾼\"       \"度\"       \"肯定\"     \"國家\"    \n",
              " [91] \"衛\"       \"⽣\"       \"研究院\"   \"群體\"     \"健康\"     \"科學\"    \n",
              " [97] \"研究所\"   \"與\"       \"感染\"     \"症\"       \"與\"       \"疫苗\"    \n",
              "[103] \"研究所\"   \"合作\"     \"利\"       \"⽤\"       \"真實\"     \"數據\"    \n",
              "[109] \"與\"       \"數學模型\" \"證實\"     \"良好\"     \"的\"       \"邊境\"    \n",
              "[115] \"管控\"     \"詳盡\"     \"的\"       \"疫情\"     \"調查\"     \"確實\"    \n",
              "[121] \"的\"       \"隔離\"     \"與\"       \"檢疫\"     \"以及\"     \"民眾遵\"  \n",
              "[127] \"⾏\"       \"防疫\"     \"措施\"     \"為\"       \"台灣\"     \"抗疫四\"  \n",
              "[133] \"⼤\"       \"⽀\"       \"柱\"       \"台灣\"     \"也\"       \"對\"      \n",
              "[139] \"世界\"     \"各國\"     \"提供\"     \"各項\"     \"協助\"     \"與\"      \n",
              "[145] \"經驗\"     \"分享\"     \"期望\"     \"幫助\"     \"各國\"     \"盡快\"    \n",
              "[151] \"從\"       \"疫情\"     \"的\"       \"陰霾\"     \"中\"       \"⾛\"      \n",
              "[157] \"出\"      "
            ],
            "text/latex": "\\begin{enumerate*}\n\\item '嚴重'\n\\item '特殊'\n\\item '傳染性'\n\\item '肺炎'\n\\item '疫情'\n\\item '持續'\n\\item '在'\n\\item '全球'\n\\item '蔓延'\n\\item '已'\n\\item '造成'\n\\item '三千多萬'\n\\item '⼈'\n\\item '感染'\n\\item '死亡'\n\\item '⼈'\n\\item '數'\n\\item '破'\n\\item '百萬'\n\\item '⼈'\n\\item '歐美'\n\\item '醫療'\n\\item '體系'\n\\item '幾近'\n\\item '崩潰'\n\\item '各種'\n\\item '⾏'\n\\item '動'\n\\item '限制'\n\\item '對於'\n\\item '各國'\n\\item '之'\n\\item '經濟'\n\\item '更'\n\\item '有莫'\n\\item '⼤'\n\\item '之'\n\\item '衝擊'\n\\item '然'\n\\item '⽽'\n\\item '台'\n\\item '灣'\n\\item '未'\n\\item '實'\n\\item '⾏'\n\\item '⼤'\n\\item '規模'\n\\item '封鎖'\n\\item '⾏'\n\\item '動'\n\\item '維持'\n\\item '正常'\n\\item '上班'\n\\item '上課'\n\\item '與'\n\\item '各種'\n\\item '經濟'\n\\item '活動'\n\\item '至今'\n\\item '無'\n\\item '⼤'\n\\item '規模'\n\\item '疫情'\n\\item '爆發'\n\\item '醫療'\n\\item '體系'\n\\item '也'\n\\item '仍'\n\\item '能'\n\\item '正常'\n\\item '提供'\n\\item '民眾'\n\\item '服務'\n\\item '顯'\n\\item '⽰'\n\\item '台'\n\\item '灣'\n\\item '的'\n\\item '防疫'\n\\item '政策'\n\\item '正確'\n\\item '⽽'\n\\item '有效'\n\\item '獲得'\n\\item '世界'\n\\item '各國'\n\\item '⾼'\n\\item '度'\n\\item '肯定'\n\\item '國家'\n\\item '衛'\n\\item '⽣'\n\\item '研究院'\n\\item '群體'\n\\item '健康'\n\\item '科學'\n\\item '研究所'\n\\item '與'\n\\item '感染'\n\\item '症'\n\\item '與'\n\\item '疫苗'\n\\item '研究所'\n\\item '合作'\n\\item '利'\n\\item '⽤'\n\\item '真實'\n\\item '數據'\n\\item '與'\n\\item '數學模型'\n\\item '證實'\n\\item '良好'\n\\item '的'\n\\item '邊境'\n\\item '管控'\n\\item '詳盡'\n\\item '的'\n\\item '疫情'\n\\item '調查'\n\\item '確實'\n\\item '的'\n\\item '隔離'\n\\item '與'\n\\item '檢疫'\n\\item '以及'\n\\item '民眾遵'\n\\item '⾏'\n\\item '防疫'\n\\item '措施'\n\\item '為'\n\\item '台灣'\n\\item '抗疫四'\n\\item '⼤'\n\\item '⽀'\n\\item '柱'\n\\item '台灣'\n\\item '也'\n\\item '對'\n\\item '世界'\n\\item '各國'\n\\item '提供'\n\\item '各項'\n\\item '協助'\n\\item '與'\n\\item '經驗'\n\\item '分享'\n\\item '期望'\n\\item '幫助'\n\\item '各國'\n\\item '盡快'\n\\item '從'\n\\item '疫情'\n\\item '的'\n\\item '陰霾'\n\\item '中'\n\\item '⾛'\n\\item '出'\n\\end{enumerate*}\n",
            "text/markdown": "1. '嚴重'\n2. '特殊'\n3. '傳染性'\n4. '肺炎'\n5. '疫情'\n6. '持續'\n7. '在'\n8. '全球'\n9. '蔓延'\n10. '已'\n11. '造成'\n12. '三千多萬'\n13. '⼈'\n14. '感染'\n15. '死亡'\n16. '⼈'\n17. '數'\n18. '破'\n19. '百萬'\n20. '⼈'\n21. '歐美'\n22. '醫療'\n23. '體系'\n24. '幾近'\n25. '崩潰'\n26. '各種'\n27. '⾏'\n28. '動'\n29. '限制'\n30. '對於'\n31. '各國'\n32. '之'\n33. '經濟'\n34. '更'\n35. '有莫'\n36. '⼤'\n37. '之'\n38. '衝擊'\n39. '然'\n40. '⽽'\n41. '台'\n42. '灣'\n43. '未'\n44. '實'\n45. '⾏'\n46. '⼤'\n47. '規模'\n48. '封鎖'\n49. '⾏'\n50. '動'\n51. '維持'\n52. '正常'\n53. '上班'\n54. '上課'\n55. '與'\n56. '各種'\n57. '經濟'\n58. '活動'\n59. '至今'\n60. '無'\n61. '⼤'\n62. '規模'\n63. '疫情'\n64. '爆發'\n65. '醫療'\n66. '體系'\n67. '也'\n68. '仍'\n69. '能'\n70. '正常'\n71. '提供'\n72. '民眾'\n73. '服務'\n74. '顯'\n75. '⽰'\n76. '台'\n77. '灣'\n78. '的'\n79. '防疫'\n80. '政策'\n81. '正確'\n82. '⽽'\n83. '有效'\n84. '獲得'\n85. '世界'\n86. '各國'\n87. '⾼'\n88. '度'\n89. '肯定'\n90. '國家'\n91. '衛'\n92. '⽣'\n93. '研究院'\n94. '群體'\n95. '健康'\n96. '科學'\n97. '研究所'\n98. '與'\n99. '感染'\n100. '症'\n101. '與'\n102. '疫苗'\n103. '研究所'\n104. '合作'\n105. '利'\n106. '⽤'\n107. '真實'\n108. '數據'\n109. '與'\n110. '數學模型'\n111. '證實'\n112. '良好'\n113. '的'\n114. '邊境'\n115. '管控'\n116. '詳盡'\n117. '的'\n118. '疫情'\n119. '調查'\n120. '確實'\n121. '的'\n122. '隔離'\n123. '與'\n124. '檢疫'\n125. '以及'\n126. '民眾遵'\n127. '⾏'\n128. '防疫'\n129. '措施'\n130. '為'\n131. '台灣'\n132. '抗疫四'\n133. '⼤'\n134. '⽀'\n135. '柱'\n136. '台灣'\n137. '也'\n138. '對'\n139. '世界'\n140. '各國'\n141. '提供'\n142. '各項'\n143. '協助'\n144. '與'\n145. '經驗'\n146. '分享'\n147. '期望'\n148. '幫助'\n149. '各國'\n150. '盡快'\n151. '從'\n152. '疫情'\n153. '的'\n154. '陰霾'\n155. '中'\n156. '⾛'\n157. '出'\n\n\n",
            "text/html": [
              "<style>\n",
              ".list-inline {list-style: none; margin:0; padding: 0}\n",
              ".list-inline>li {display: inline-block}\n",
              ".list-inline>li:not(:last-child)::after {content: \"\\00b7\"; padding: 0 .5ex}\n",
              "</style>\n",
              "<ol class=list-inline><li>'嚴重'</li><li>'特殊'</li><li>'傳染性'</li><li>'肺炎'</li><li>'疫情'</li><li>'持續'</li><li>'在'</li><li>'全球'</li><li>'蔓延'</li><li>'已'</li><li>'造成'</li><li>'三千多萬'</li><li>'⼈'</li><li>'感染'</li><li>'死亡'</li><li>'⼈'</li><li>'數'</li><li>'破'</li><li>'百萬'</li><li>'⼈'</li><li>'歐美'</li><li>'醫療'</li><li>'體系'</li><li>'幾近'</li><li>'崩潰'</li><li>'各種'</li><li>'⾏'</li><li>'動'</li><li>'限制'</li><li>'對於'</li><li>'各國'</li><li>'之'</li><li>'經濟'</li><li>'更'</li><li>'有莫'</li><li>'⼤'</li><li>'之'</li><li>'衝擊'</li><li>'然'</li><li>'⽽'</li><li>'台'</li><li>'灣'</li><li>'未'</li><li>'實'</li><li>'⾏'</li><li>'⼤'</li><li>'規模'</li><li>'封鎖'</li><li>'⾏'</li><li>'動'</li><li>'維持'</li><li>'正常'</li><li>'上班'</li><li>'上課'</li><li>'與'</li><li>'各種'</li><li>'經濟'</li><li>'活動'</li><li>'至今'</li><li>'無'</li><li>'⼤'</li><li>'規模'</li><li>'疫情'</li><li>'爆發'</li><li>'醫療'</li><li>'體系'</li><li>'也'</li><li>'仍'</li><li>'能'</li><li>'正常'</li><li>'提供'</li><li>'民眾'</li><li>'服務'</li><li>'顯'</li><li>'⽰'</li><li>'台'</li><li>'灣'</li><li>'的'</li><li>'防疫'</li><li>'政策'</li><li>'正確'</li><li>'⽽'</li><li>'有效'</li><li>'獲得'</li><li>'世界'</li><li>'各國'</li><li>'⾼'</li><li>'度'</li><li>'肯定'</li><li>'國家'</li><li>'衛'</li><li>'⽣'</li><li>'研究院'</li><li>'群體'</li><li>'健康'</li><li>'科學'</li><li>'研究所'</li><li>'與'</li><li>'感染'</li><li>'症'</li><li>'與'</li><li>'疫苗'</li><li>'研究所'</li><li>'合作'</li><li>'利'</li><li>'⽤'</li><li>'真實'</li><li>'數據'</li><li>'與'</li><li>'數學模型'</li><li>'證實'</li><li>'良好'</li><li>'的'</li><li>'邊境'</li><li>'管控'</li><li>'詳盡'</li><li>'的'</li><li>'疫情'</li><li>'調查'</li><li>'確實'</li><li>'的'</li><li>'隔離'</li><li>'與'</li><li>'檢疫'</li><li>'以及'</li><li>'民眾遵'</li><li>'⾏'</li><li>'防疫'</li><li>'措施'</li><li>'為'</li><li>'台灣'</li><li>'抗疫四'</li><li>'⼤'</li><li>'⽀'</li><li>'柱'</li><li>'台灣'</li><li>'也'</li><li>'對'</li><li>'世界'</li><li>'各國'</li><li>'提供'</li><li>'各項'</li><li>'協助'</li><li>'與'</li><li>'經驗'</li><li>'分享'</li><li>'期望'</li><li>'幫助'</li><li>'各國'</li><li>'盡快'</li><li>'從'</li><li>'疫情'</li><li>'的'</li><li>'陰霾'</li><li>'中'</li><li>'⾛'</li><li>'出'</li></ol>\n"
            ]
          },
          "metadata": {
            "tags": []
          }
        }
      ]
    },
    {
      "cell_type": "code",
      "metadata": {
        "id": "vKMDEuuBOhZe"
      },
      "source": [
        "new_words <- c(\"傳染性肺炎\",\"醫療體系\",\"防疫措施\",\"台灣\")\n",
        "for (i in 1:length(new_words)) {\n",
        "  new_user_word(cutter,new_words[i])\n",
        "}"
      ],
      "execution_count": 109,
      "outputs": []
    },
    {
      "cell_type": "code",
      "metadata": {
        "id": "9PX_LqvuP6vv",
        "colab": {
          "base_uri": "https://localhost:8080/",
          "height": 85
        },
        "outputId": "ff08e94b-b4d5-4337-b861-6ed9cac7043c"
      },
      "source": [
        "cutter[content]"
      ],
      "execution_count": 110,
      "outputs": [
        {
          "output_type": "display_data",
          "data": {
            "text/plain": [
              "  [1] \"嚴重\"       \"特殊\"       \"傳染性肺炎\" \"疫情\"       \"持續\"      \n",
              "  [6] \"在\"         \"全球\"       \"蔓延\"       \"已\"         \"造成\"      \n",
              " [11] \"三千多萬\"   \"⼈\"         \"感染\"       \"死亡\"       \"⼈\"        \n",
              " [16] \"數\"         \"破\"         \"百萬\"       \"⼈\"         \"歐美\"      \n",
              " [21] \"醫療體系\"   \"幾近\"       \"崩潰\"       \"各種\"       \"⾏\"        \n",
              " [26] \"動\"         \"限制\"       \"對於\"       \"各國\"       \"之\"        \n",
              " [31] \"經濟\"       \"更\"         \"有莫\"       \"⼤\"         \"之\"        \n",
              " [36] \"衝擊\"       \"然\"         \"⽽\"         \"台灣\"       \"未實\"      \n",
              " [41] \"⾏\"         \"⼤\"         \"規模\"       \"封鎖\"       \"⾏\"        \n",
              " [46] \"動\"         \"維持\"       \"正常\"       \"上班\"       \"上課\"      \n",
              " [51] \"與\"         \"各種\"       \"經濟\"       \"活動\"       \"至今\"      \n",
              " [56] \"無\"         \"⼤\"         \"規模\"       \"疫情\"       \"爆發\"      \n",
              " [61] \"醫療體系\"   \"也\"         \"仍\"         \"能\"         \"正常\"      \n",
              " [66] \"提供\"       \"民眾\"       \"服務\"       \"顯\"         \"⽰\"        \n",
              " [71] \"台灣\"       \"的\"         \"防疫\"       \"政策\"       \"正確\"      \n",
              " [76] \"⽽\"         \"有效\"       \"獲得\"       \"世界\"       \"各國\"      \n",
              " [81] \"⾼\"         \"度\"         \"肯定\"       \"國家\"       \"衛\"        \n",
              " [86] \"⽣\"         \"研究院\"     \"群體\"       \"健康\"       \"科學\"      \n",
              " [91] \"研究所\"     \"與\"         \"感染\"       \"症\"         \"與\"        \n",
              " [96] \"疫苗\"       \"研究所\"     \"合作\"       \"利\"         \"⽤\"        \n",
              "[101] \"真實\"       \"數據\"       \"與\"         \"數學模型\"   \"證實\"      \n",
              "[106] \"良好\"       \"的\"         \"邊境\"       \"管控\"       \"詳盡\"      \n",
              "[111] \"的\"         \"疫情\"       \"調查\"       \"確實\"       \"的\"        \n",
              "[116] \"隔離\"       \"與\"         \"檢疫\"       \"以及\"       \"民眾遵\"    \n",
              "[121] \"⾏\"         \"防疫措施\"   \"為\"         \"台灣\"       \"抗疫四\"    \n",
              "[126] \"⼤\"         \"⽀\"         \"柱\"         \"台灣\"       \"也\"        \n",
              "[131] \"對\"         \"世界\"       \"各國\"       \"提供\"       \"各項\"      \n",
              "[136] \"協助\"       \"與\"         \"經驗\"       \"分享\"       \"期望\"      \n",
              "[141] \"幫助\"       \"各國\"       \"盡快\"       \"從\"         \"疫情\"      \n",
              "[146] \"的\"         \"陰霾\"       \"中\"         \"⾛\"         \"出\"        "
            ],
            "text/latex": "\\begin{enumerate*}\n\\item '嚴重'\n\\item '特殊'\n\\item '傳染性肺炎'\n\\item '疫情'\n\\item '持續'\n\\item '在'\n\\item '全球'\n\\item '蔓延'\n\\item '已'\n\\item '造成'\n\\item '三千多萬'\n\\item '⼈'\n\\item '感染'\n\\item '死亡'\n\\item '⼈'\n\\item '數'\n\\item '破'\n\\item '百萬'\n\\item '⼈'\n\\item '歐美'\n\\item '醫療體系'\n\\item '幾近'\n\\item '崩潰'\n\\item '各種'\n\\item '⾏'\n\\item '動'\n\\item '限制'\n\\item '對於'\n\\item '各國'\n\\item '之'\n\\item '經濟'\n\\item '更'\n\\item '有莫'\n\\item '⼤'\n\\item '之'\n\\item '衝擊'\n\\item '然'\n\\item '⽽'\n\\item '台灣'\n\\item '未實'\n\\item '⾏'\n\\item '⼤'\n\\item '規模'\n\\item '封鎖'\n\\item '⾏'\n\\item '動'\n\\item '維持'\n\\item '正常'\n\\item '上班'\n\\item '上課'\n\\item '與'\n\\item '各種'\n\\item '經濟'\n\\item '活動'\n\\item '至今'\n\\item '無'\n\\item '⼤'\n\\item '規模'\n\\item '疫情'\n\\item '爆發'\n\\item '醫療體系'\n\\item '也'\n\\item '仍'\n\\item '能'\n\\item '正常'\n\\item '提供'\n\\item '民眾'\n\\item '服務'\n\\item '顯'\n\\item '⽰'\n\\item '台灣'\n\\item '的'\n\\item '防疫'\n\\item '政策'\n\\item '正確'\n\\item '⽽'\n\\item '有效'\n\\item '獲得'\n\\item '世界'\n\\item '各國'\n\\item '⾼'\n\\item '度'\n\\item '肯定'\n\\item '國家'\n\\item '衛'\n\\item '⽣'\n\\item '研究院'\n\\item '群體'\n\\item '健康'\n\\item '科學'\n\\item '研究所'\n\\item '與'\n\\item '感染'\n\\item '症'\n\\item '與'\n\\item '疫苗'\n\\item '研究所'\n\\item '合作'\n\\item '利'\n\\item '⽤'\n\\item '真實'\n\\item '數據'\n\\item '與'\n\\item '數學模型'\n\\item '證實'\n\\item '良好'\n\\item '的'\n\\item '邊境'\n\\item '管控'\n\\item '詳盡'\n\\item '的'\n\\item '疫情'\n\\item '調查'\n\\item '確實'\n\\item '的'\n\\item '隔離'\n\\item '與'\n\\item '檢疫'\n\\item '以及'\n\\item '民眾遵'\n\\item '⾏'\n\\item '防疫措施'\n\\item '為'\n\\item '台灣'\n\\item '抗疫四'\n\\item '⼤'\n\\item '⽀'\n\\item '柱'\n\\item '台灣'\n\\item '也'\n\\item '對'\n\\item '世界'\n\\item '各國'\n\\item '提供'\n\\item '各項'\n\\item '協助'\n\\item '與'\n\\item '經驗'\n\\item '分享'\n\\item '期望'\n\\item '幫助'\n\\item '各國'\n\\item '盡快'\n\\item '從'\n\\item '疫情'\n\\item '的'\n\\item '陰霾'\n\\item '中'\n\\item '⾛'\n\\item '出'\n\\end{enumerate*}\n",
            "text/markdown": "1. '嚴重'\n2. '特殊'\n3. '傳染性肺炎'\n4. '疫情'\n5. '持續'\n6. '在'\n7. '全球'\n8. '蔓延'\n9. '已'\n10. '造成'\n11. '三千多萬'\n12. '⼈'\n13. '感染'\n14. '死亡'\n15. '⼈'\n16. '數'\n17. '破'\n18. '百萬'\n19. '⼈'\n20. '歐美'\n21. '醫療體系'\n22. '幾近'\n23. '崩潰'\n24. '各種'\n25. '⾏'\n26. '動'\n27. '限制'\n28. '對於'\n29. '各國'\n30. '之'\n31. '經濟'\n32. '更'\n33. '有莫'\n34. '⼤'\n35. '之'\n36. '衝擊'\n37. '然'\n38. '⽽'\n39. '台灣'\n40. '未實'\n41. '⾏'\n42. '⼤'\n43. '規模'\n44. '封鎖'\n45. '⾏'\n46. '動'\n47. '維持'\n48. '正常'\n49. '上班'\n50. '上課'\n51. '與'\n52. '各種'\n53. '經濟'\n54. '活動'\n55. '至今'\n56. '無'\n57. '⼤'\n58. '規模'\n59. '疫情'\n60. '爆發'\n61. '醫療體系'\n62. '也'\n63. '仍'\n64. '能'\n65. '正常'\n66. '提供'\n67. '民眾'\n68. '服務'\n69. '顯'\n70. '⽰'\n71. '台灣'\n72. '的'\n73. '防疫'\n74. '政策'\n75. '正確'\n76. '⽽'\n77. '有效'\n78. '獲得'\n79. '世界'\n80. '各國'\n81. '⾼'\n82. '度'\n83. '肯定'\n84. '國家'\n85. '衛'\n86. '⽣'\n87. '研究院'\n88. '群體'\n89. '健康'\n90. '科學'\n91. '研究所'\n92. '與'\n93. '感染'\n94. '症'\n95. '與'\n96. '疫苗'\n97. '研究所'\n98. '合作'\n99. '利'\n100. '⽤'\n101. '真實'\n102. '數據'\n103. '與'\n104. '數學模型'\n105. '證實'\n106. '良好'\n107. '的'\n108. '邊境'\n109. '管控'\n110. '詳盡'\n111. '的'\n112. '疫情'\n113. '調查'\n114. '確實'\n115. '的'\n116. '隔離'\n117. '與'\n118. '檢疫'\n119. '以及'\n120. '民眾遵'\n121. '⾏'\n122. '防疫措施'\n123. '為'\n124. '台灣'\n125. '抗疫四'\n126. '⼤'\n127. '⽀'\n128. '柱'\n129. '台灣'\n130. '也'\n131. '對'\n132. '世界'\n133. '各國'\n134. '提供'\n135. '各項'\n136. '協助'\n137. '與'\n138. '經驗'\n139. '分享'\n140. '期望'\n141. '幫助'\n142. '各國'\n143. '盡快'\n144. '從'\n145. '疫情'\n146. '的'\n147. '陰霾'\n148. '中'\n149. '⾛'\n150. '出'\n\n\n",
            "text/html": [
              "<style>\n",
              ".list-inline {list-style: none; margin:0; padding: 0}\n",
              ".list-inline>li {display: inline-block}\n",
              ".list-inline>li:not(:last-child)::after {content: \"\\00b7\"; padding: 0 .5ex}\n",
              "</style>\n",
              "<ol class=list-inline><li>'嚴重'</li><li>'特殊'</li><li>'傳染性肺炎'</li><li>'疫情'</li><li>'持續'</li><li>'在'</li><li>'全球'</li><li>'蔓延'</li><li>'已'</li><li>'造成'</li><li>'三千多萬'</li><li>'⼈'</li><li>'感染'</li><li>'死亡'</li><li>'⼈'</li><li>'數'</li><li>'破'</li><li>'百萬'</li><li>'⼈'</li><li>'歐美'</li><li>'醫療體系'</li><li>'幾近'</li><li>'崩潰'</li><li>'各種'</li><li>'⾏'</li><li>'動'</li><li>'限制'</li><li>'對於'</li><li>'各國'</li><li>'之'</li><li>'經濟'</li><li>'更'</li><li>'有莫'</li><li>'⼤'</li><li>'之'</li><li>'衝擊'</li><li>'然'</li><li>'⽽'</li><li>'台灣'</li><li>'未實'</li><li>'⾏'</li><li>'⼤'</li><li>'規模'</li><li>'封鎖'</li><li>'⾏'</li><li>'動'</li><li>'維持'</li><li>'正常'</li><li>'上班'</li><li>'上課'</li><li>'與'</li><li>'各種'</li><li>'經濟'</li><li>'活動'</li><li>'至今'</li><li>'無'</li><li>'⼤'</li><li>'規模'</li><li>'疫情'</li><li>'爆發'</li><li>'醫療體系'</li><li>'也'</li><li>'仍'</li><li>'能'</li><li>'正常'</li><li>'提供'</li><li>'民眾'</li><li>'服務'</li><li>'顯'</li><li>'⽰'</li><li>'台灣'</li><li>'的'</li><li>'防疫'</li><li>'政策'</li><li>'正確'</li><li>'⽽'</li><li>'有效'</li><li>'獲得'</li><li>'世界'</li><li>'各國'</li><li>'⾼'</li><li>'度'</li><li>'肯定'</li><li>'國家'</li><li>'衛'</li><li>'⽣'</li><li>'研究院'</li><li>'群體'</li><li>'健康'</li><li>'科學'</li><li>'研究所'</li><li>'與'</li><li>'感染'</li><li>'症'</li><li>'與'</li><li>'疫苗'</li><li>'研究所'</li><li>'合作'</li><li>'利'</li><li>'⽤'</li><li>'真實'</li><li>'數據'</li><li>'與'</li><li>'數學模型'</li><li>'證實'</li><li>'良好'</li><li>'的'</li><li>'邊境'</li><li>'管控'</li><li>'詳盡'</li><li>'的'</li><li>'疫情'</li><li>'調查'</li><li>'確實'</li><li>'的'</li><li>'隔離'</li><li>'與'</li><li>'檢疫'</li><li>'以及'</li><li>'民眾遵'</li><li>'⾏'</li><li>'防疫措施'</li><li>'為'</li><li>'台灣'</li><li>'抗疫四'</li><li>'⼤'</li><li>'⽀'</li><li>'柱'</li><li>'台灣'</li><li>'也'</li><li>'對'</li><li>'世界'</li><li>'各國'</li><li>'提供'</li><li>'各項'</li><li>'協助'</li><li>'與'</li><li>'經驗'</li><li>'分享'</li><li>'期望'</li><li>'幫助'</li><li>'各國'</li><li>'盡快'</li><li>'從'</li><li>'疫情'</li><li>'的'</li><li>'陰霾'</li><li>'中'</li><li>'⾛'</li><li>'出'</li></ol>\n"
            ]
          },
          "metadata": {
            "tags": []
          }
        }
      ]
    },
    {
      "cell_type": "code",
      "metadata": {
        "id": "tbp30G1hP8Lu"
      },
      "source": [
        "writeLines(new_words,\"new_words.txt\")"
      ],
      "execution_count": 120,
      "outputs": []
    },
    {
      "cell_type": "code",
      "metadata": {
        "id": "zh1W8EzsQVm9"
      },
      "source": [
        "stop_words <- c(\"在\",\"之\",\"更\",\"個\",\"未\",\"⽽\",\"也\",\"與\",\"的\",\"⼤\",\"⾏\",\"⼈\",\"動\")\n",
        "writeLines(stop_words,\"stop_words.txt\")"
      ],
      "execution_count": 121,
      "outputs": []
    },
    {
      "cell_type": "code",
      "metadata": {
        "id": "zzc3_TdnQ2UN",
        "colab": {
          "base_uri": "https://localhost:8080/",
          "height": 68
        },
        "outputId": "8a74b3b1-f1e6-4292-b9ab-6319d7ba2f40"
      },
      "source": [
        "cutter <- worker(user = \"new_words.txt\",stop_word = \"stop_words.txt\", bylines = FALSE)\n",
        "seg_words <- cutter[content]\n",
        "seg_words"
      ],
      "execution_count": 122,
      "outputs": [
        {
          "output_type": "display_data",
          "data": {
            "text/plain": [
              "  [1] \"嚴重\"       \"特殊\"       \"傳染性肺炎\" \"疫情\"       \"持續\"      \n",
              "  [6] \"全球\"       \"蔓延\"       \"已\"         \"造成\"       \"三千多萬\"  \n",
              " [11] \"感染\"       \"死亡\"       \"數\"         \"破\"         \"百萬\"      \n",
              " [16] \"歐美\"       \"醫療體系\"   \"幾近\"       \"崩潰\"       \"各種\"      \n",
              " [21] \"限制\"       \"對於\"       \"各國\"       \"經濟\"       \"有莫\"      \n",
              " [26] \"衝擊\"       \"然\"         \"台灣\"       \"未實\"       \"規模\"      \n",
              " [31] \"封鎖\"       \"維持\"       \"正常\"       \"上班\"       \"上課\"      \n",
              " [36] \"各種\"       \"經濟\"       \"活動\"       \"至今\"       \"無\"        \n",
              " [41] \"規模\"       \"疫情\"       \"爆發\"       \"醫療體系\"   \"仍\"        \n",
              " [46] \"能\"         \"正常\"       \"提供\"       \"民眾\"       \"服務\"      \n",
              " [51] \"顯\"         \"⽰\"         \"台灣\"       \"防疫\"       \"政策\"      \n",
              " [56] \"正確\"       \"有效\"       \"獲得\"       \"世界\"       \"各國\"      \n",
              " [61] \"⾼\"         \"度\"         \"肯定\"       \"國家\"       \"衛\"        \n",
              " [66] \"⽣\"         \"研究院\"     \"群體\"       \"健康\"       \"科學\"      \n",
              " [71] \"研究所\"     \"感染\"       \"症\"         \"疫苗\"       \"研究所\"    \n",
              " [76] \"合作\"       \"利\"         \"⽤\"         \"真實\"       \"數據\"      \n",
              " [81] \"數學模型\"   \"證實\"       \"良好\"       \"邊境\"       \"管控\"      \n",
              " [86] \"詳盡\"       \"疫情\"       \"調查\"       \"確實\"       \"隔離\"      \n",
              " [91] \"檢疫\"       \"以及\"       \"民眾遵\"     \"防疫措施\"   \"為\"        \n",
              " [96] \"台灣\"       \"抗疫四\"     \"⽀\"         \"柱\"         \"台灣\"      \n",
              "[101] \"對\"         \"世界\"       \"各國\"       \"提供\"       \"各項\"      \n",
              "[106] \"協助\"       \"經驗\"       \"分享\"       \"期望\"       \"幫助\"      \n",
              "[111] \"各國\"       \"盡快\"       \"從\"         \"疫情\"       \"陰霾\"      \n",
              "[116] \"中\"         \"⾛\"         \"出\"        "
            ],
            "text/latex": "\\begin{enumerate*}\n\\item '嚴重'\n\\item '特殊'\n\\item '傳染性肺炎'\n\\item '疫情'\n\\item '持續'\n\\item '全球'\n\\item '蔓延'\n\\item '已'\n\\item '造成'\n\\item '三千多萬'\n\\item '感染'\n\\item '死亡'\n\\item '數'\n\\item '破'\n\\item '百萬'\n\\item '歐美'\n\\item '醫療體系'\n\\item '幾近'\n\\item '崩潰'\n\\item '各種'\n\\item '限制'\n\\item '對於'\n\\item '各國'\n\\item '經濟'\n\\item '有莫'\n\\item '衝擊'\n\\item '然'\n\\item '台灣'\n\\item '未實'\n\\item '規模'\n\\item '封鎖'\n\\item '維持'\n\\item '正常'\n\\item '上班'\n\\item '上課'\n\\item '各種'\n\\item '經濟'\n\\item '活動'\n\\item '至今'\n\\item '無'\n\\item '規模'\n\\item '疫情'\n\\item '爆發'\n\\item '醫療體系'\n\\item '仍'\n\\item '能'\n\\item '正常'\n\\item '提供'\n\\item '民眾'\n\\item '服務'\n\\item '顯'\n\\item '⽰'\n\\item '台灣'\n\\item '防疫'\n\\item '政策'\n\\item '正確'\n\\item '有效'\n\\item '獲得'\n\\item '世界'\n\\item '各國'\n\\item '⾼'\n\\item '度'\n\\item '肯定'\n\\item '國家'\n\\item '衛'\n\\item '⽣'\n\\item '研究院'\n\\item '群體'\n\\item '健康'\n\\item '科學'\n\\item '研究所'\n\\item '感染'\n\\item '症'\n\\item '疫苗'\n\\item '研究所'\n\\item '合作'\n\\item '利'\n\\item '⽤'\n\\item '真實'\n\\item '數據'\n\\item '數學模型'\n\\item '證實'\n\\item '良好'\n\\item '邊境'\n\\item '管控'\n\\item '詳盡'\n\\item '疫情'\n\\item '調查'\n\\item '確實'\n\\item '隔離'\n\\item '檢疫'\n\\item '以及'\n\\item '民眾遵'\n\\item '防疫措施'\n\\item '為'\n\\item '台灣'\n\\item '抗疫四'\n\\item '⽀'\n\\item '柱'\n\\item '台灣'\n\\item '對'\n\\item '世界'\n\\item '各國'\n\\item '提供'\n\\item '各項'\n\\item '協助'\n\\item '經驗'\n\\item '分享'\n\\item '期望'\n\\item '幫助'\n\\item '各國'\n\\item '盡快'\n\\item '從'\n\\item '疫情'\n\\item '陰霾'\n\\item '中'\n\\item '⾛'\n\\item '出'\n\\end{enumerate*}\n",
            "text/markdown": "1. '嚴重'\n2. '特殊'\n3. '傳染性肺炎'\n4. '疫情'\n5. '持續'\n6. '全球'\n7. '蔓延'\n8. '已'\n9. '造成'\n10. '三千多萬'\n11. '感染'\n12. '死亡'\n13. '數'\n14. '破'\n15. '百萬'\n16. '歐美'\n17. '醫療體系'\n18. '幾近'\n19. '崩潰'\n20. '各種'\n21. '限制'\n22. '對於'\n23. '各國'\n24. '經濟'\n25. '有莫'\n26. '衝擊'\n27. '然'\n28. '台灣'\n29. '未實'\n30. '規模'\n31. '封鎖'\n32. '維持'\n33. '正常'\n34. '上班'\n35. '上課'\n36. '各種'\n37. '經濟'\n38. '活動'\n39. '至今'\n40. '無'\n41. '規模'\n42. '疫情'\n43. '爆發'\n44. '醫療體系'\n45. '仍'\n46. '能'\n47. '正常'\n48. '提供'\n49. '民眾'\n50. '服務'\n51. '顯'\n52. '⽰'\n53. '台灣'\n54. '防疫'\n55. '政策'\n56. '正確'\n57. '有效'\n58. '獲得'\n59. '世界'\n60. '各國'\n61. '⾼'\n62. '度'\n63. '肯定'\n64. '國家'\n65. '衛'\n66. '⽣'\n67. '研究院'\n68. '群體'\n69. '健康'\n70. '科學'\n71. '研究所'\n72. '感染'\n73. '症'\n74. '疫苗'\n75. '研究所'\n76. '合作'\n77. '利'\n78. '⽤'\n79. '真實'\n80. '數據'\n81. '數學模型'\n82. '證實'\n83. '良好'\n84. '邊境'\n85. '管控'\n86. '詳盡'\n87. '疫情'\n88. '調查'\n89. '確實'\n90. '隔離'\n91. '檢疫'\n92. '以及'\n93. '民眾遵'\n94. '防疫措施'\n95. '為'\n96. '台灣'\n97. '抗疫四'\n98. '⽀'\n99. '柱'\n100. '台灣'\n101. '對'\n102. '世界'\n103. '各國'\n104. '提供'\n105. '各項'\n106. '協助'\n107. '經驗'\n108. '分享'\n109. '期望'\n110. '幫助'\n111. '各國'\n112. '盡快'\n113. '從'\n114. '疫情'\n115. '陰霾'\n116. '中'\n117. '⾛'\n118. '出'\n\n\n",
            "text/html": [
              "<style>\n",
              ".list-inline {list-style: none; margin:0; padding: 0}\n",
              ".list-inline>li {display: inline-block}\n",
              ".list-inline>li:not(:last-child)::after {content: \"\\00b7\"; padding: 0 .5ex}\n",
              "</style>\n",
              "<ol class=list-inline><li>'嚴重'</li><li>'特殊'</li><li>'傳染性肺炎'</li><li>'疫情'</li><li>'持續'</li><li>'全球'</li><li>'蔓延'</li><li>'已'</li><li>'造成'</li><li>'三千多萬'</li><li>'感染'</li><li>'死亡'</li><li>'數'</li><li>'破'</li><li>'百萬'</li><li>'歐美'</li><li>'醫療體系'</li><li>'幾近'</li><li>'崩潰'</li><li>'各種'</li><li>'限制'</li><li>'對於'</li><li>'各國'</li><li>'經濟'</li><li>'有莫'</li><li>'衝擊'</li><li>'然'</li><li>'台灣'</li><li>'未實'</li><li>'規模'</li><li>'封鎖'</li><li>'維持'</li><li>'正常'</li><li>'上班'</li><li>'上課'</li><li>'各種'</li><li>'經濟'</li><li>'活動'</li><li>'至今'</li><li>'無'</li><li>'規模'</li><li>'疫情'</li><li>'爆發'</li><li>'醫療體系'</li><li>'仍'</li><li>'能'</li><li>'正常'</li><li>'提供'</li><li>'民眾'</li><li>'服務'</li><li>'顯'</li><li>'⽰'</li><li>'台灣'</li><li>'防疫'</li><li>'政策'</li><li>'正確'</li><li>'有效'</li><li>'獲得'</li><li>'世界'</li><li>'各國'</li><li>'⾼'</li><li>'度'</li><li>'肯定'</li><li>'國家'</li><li>'衛'</li><li>'⽣'</li><li>'研究院'</li><li>'群體'</li><li>'健康'</li><li>'科學'</li><li>'研究所'</li><li>'感染'</li><li>'症'</li><li>'疫苗'</li><li>'研究所'</li><li>'合作'</li><li>'利'</li><li>'⽤'</li><li>'真實'</li><li>'數據'</li><li>'數學模型'</li><li>'證實'</li><li>'良好'</li><li>'邊境'</li><li>'管控'</li><li>'詳盡'</li><li>'疫情'</li><li>'調查'</li><li>'確實'</li><li>'隔離'</li><li>'檢疫'</li><li>'以及'</li><li>'民眾遵'</li><li>'防疫措施'</li><li>'為'</li><li>'台灣'</li><li>'抗疫四'</li><li>'⽀'</li><li>'柱'</li><li>'台灣'</li><li>'對'</li><li>'世界'</li><li>'各國'</li><li>'提供'</li><li>'各項'</li><li>'協助'</li><li>'經驗'</li><li>'分享'</li><li>'期望'</li><li>'幫助'</li><li>'各國'</li><li>'盡快'</li><li>'從'</li><li>'疫情'</li><li>'陰霾'</li><li>'中'</li><li>'⾛'</li><li>'出'</li></ol>\n"
            ]
          },
          "metadata": {
            "tags": []
          }
        }
      ]
    },
    {
      "cell_type": "code",
      "metadata": {
        "id": "3jO0TYTqRZgV",
        "colab": {
          "base_uri": "https://localhost:8080/",
          "height": 283
        },
        "outputId": "81c4a27a-67b0-4c86-c68e-fd17921047ab"
      },
      "source": [
        "txt_freq <- freq(seg_words)\n",
        "txt_freq <- arrange(txt_freq,desc(freq))\n",
        "head(txt_freq)"
      ],
      "execution_count": 123,
      "outputs": [
        {
          "output_type": "display_data",
          "data": {
            "text/plain": [
              "  char   freq\n",
              "1 各國   4   \n",
              "2 疫情   4   \n",
              "3 台灣   4   \n",
              "4 各種   2   \n",
              "5 規模   2   \n",
              "6 研究所 2   "
            ],
            "text/latex": "A data.frame: 6 × 2\n\\begin{tabular}{r|ll}\n  & char & freq\\\\\n  & <chr> & <dbl>\\\\\n\\hline\n\t1 & 各國   & 4\\\\\n\t2 & 疫情   & 4\\\\\n\t3 & 台灣   & 4\\\\\n\t4 & 各種   & 2\\\\\n\t5 & 規模   & 2\\\\\n\t6 & 研究所 & 2\\\\\n\\end{tabular}\n",
            "text/markdown": "\nA data.frame: 6 × 2\n\n| <!--/--> | char &lt;chr&gt; | freq &lt;dbl&gt; |\n|---|---|---|\n| 1 | 各國   | 4 |\n| 2 | 疫情   | 4 |\n| 3 | 台灣   | 4 |\n| 4 | 各種   | 2 |\n| 5 | 規模   | 2 |\n| 6 | 研究所 | 2 |\n\n",
            "text/html": [
              "<table class=\"dataframe\">\n",
              "<caption>A data.frame: 6 × 2</caption>\n",
              "<thead>\n",
              "\t<tr><th></th><th scope=col>char</th><th scope=col>freq</th></tr>\n",
              "\t<tr><th></th><th scope=col>&lt;chr&gt;</th><th scope=col>&lt;dbl&gt;</th></tr>\n",
              "</thead>\n",
              "<tbody>\n",
              "\t<tr><th scope=row>1</th><td>各國  </td><td>4</td></tr>\n",
              "\t<tr><th scope=row>2</th><td>疫情  </td><td>4</td></tr>\n",
              "\t<tr><th scope=row>3</th><td>台灣  </td><td>4</td></tr>\n",
              "\t<tr><th scope=row>4</th><td>各種  </td><td>2</td></tr>\n",
              "\t<tr><th scope=row>5</th><td>規模  </td><td>2</td></tr>\n",
              "\t<tr><th scope=row>6</th><td>研究所</td><td>2</td></tr>\n",
              "</tbody>\n",
              "</table>\n"
            ]
          },
          "metadata": {
            "tags": []
          }
        }
      ]
    },
    {
      "cell_type": "code",
      "metadata": {
        "id": "2AjHw3DvW_6g",
        "colab": {
          "base_uri": "https://localhost:8080/"
        },
        "outputId": "b17bf36f-487b-434b-f1f8-990f7c048ac2"
      },
      "source": [
        "install.packages(\"showtext\")"
      ],
      "execution_count": 124,
      "outputs": [
        {
          "output_type": "stream",
          "text": [
            "Installing package into ‘/usr/local/lib/R/site-library’\n",
            "(as ‘lib’ is unspecified)\n",
            "\n"
          ],
          "name": "stderr"
        }
      ]
    },
    {
      "cell_type": "code",
      "metadata": {
        "id": "saO_fvwXXYoH"
      },
      "source": [
        "library(showtext)"
      ],
      "execution_count": 125,
      "outputs": []
    },
    {
      "cell_type": "code",
      "metadata": {
        "id": "kgcM2N3JXwIG"
      },
      "source": [
        "showtext.auto(enable = T)"
      ],
      "execution_count": 126,
      "outputs": []
    },
    {
      "cell_type": "code",
      "metadata": {
        "id": "ad0YDgo-R5Js",
        "colab": {
          "base_uri": "https://localhost:8080/",
          "height": 1000
        },
        "outputId": "ce387320-cf69-4db5-8a01-689096eb1b25"
      },
      "source": [
        "par(family = (\"Microsoft YaHei\"))\n",
        "wordcloud(txt_freq$char, txt_freq$freq, min.freq = 2,random.order = F,ordered.colors = F,colors = rainbow(nrow(txt_freq)))"
      ],
      "execution_count": 128,
      "outputs": [
        {
          "output_type": "stream",
          "text": [
            "Warning message in strwidth(words[i], cex = size[i], ...):\n",
            "“font family 'Microsoft YaHei' not found, will use 'wqy-microhei' instead”\n",
            "Warning message in strheight(words[i], cex = size[i], ...):\n",
            "“font family 'Microsoft YaHei' not found, will use 'sans' instead”\n",
            "Warning message in text.default(x1, y1, words[i], cex = size[i], offset = 0, srt = rotWord * :\n",
            "“font family 'Microsoft YaHei' not found, will use 'wqy-microhei' instead”\n",
            "Warning message in text.default(x1, y1, words[i], cex = size[i], offset = 0, srt = rotWord * :\n",
            "“font family 'Microsoft YaHei' not found, will use 'wqy-microhei' instead”\n",
            "Warning message in text.default(x1, y1, words[i], cex = size[i], offset = 0, srt = rotWord * :\n",
            "“font family 'Microsoft YaHei' not found, will use 'wqy-microhei' instead”\n",
            "Warning message in text.default(x1, y1, words[i], cex = size[i], offset = 0, srt = rotWord * :\n",
            "“font family 'Microsoft YaHei' not found, will use 'wqy-microhei' instead”\n",
            "Warning message in strwidth(words[i], cex = size[i], ...):\n",
            "“font family 'Microsoft YaHei' not found, will use 'wqy-microhei' instead”\n",
            "Warning message in text.default(x1, y1, words[i], cex = size[i], offset = 0, srt = rotWord * :\n",
            "“font family 'Microsoft YaHei' not found, will use 'wqy-microhei' instead”\n",
            "Warning message in text.default(x1, y1, words[i], cex = size[i], offset = 0, srt = rotWord * :\n",
            "“font family 'Microsoft YaHei' not found, will use 'wqy-microhei' instead”\n",
            "Warning message in text.default(x1, y1, words[i], cex = size[i], offset = 0, srt = rotWord * :\n",
            "“font family 'Microsoft YaHei' not found, will use 'wqy-microhei' instead”\n",
            "Warning message in text.default(x1, y1, words[i], cex = size[i], offset = 0, srt = rotWord * :\n",
            "“font family 'Microsoft YaHei' not found, will use 'wqy-microhei' instead”\n",
            "Warning message in strwidth(words[i], cex = size[i], ...):\n",
            "“font family 'Microsoft YaHei' not found, will use 'wqy-microhei' instead”\n",
            "Warning message in text.default(x1, y1, words[i], cex = size[i], offset = 0, srt = rotWord * :\n",
            "“font family 'Microsoft YaHei' not found, will use 'wqy-microhei' instead”\n",
            "Warning message in text.default(x1, y1, words[i], cex = size[i], offset = 0, srt = rotWord * :\n",
            "“font family 'Microsoft YaHei' not found, will use 'wqy-microhei' instead”\n",
            "Warning message in text.default(x1, y1, words[i], cex = size[i], offset = 0, srt = rotWord * :\n",
            "“font family 'Microsoft YaHei' not found, will use 'wqy-microhei' instead”\n",
            "Warning message in text.default(x1, y1, words[i], cex = size[i], offset = 0, srt = rotWord * :\n",
            "“font family 'Microsoft YaHei' not found, will use 'wqy-microhei' instead”\n",
            "Warning message in strwidth(words[i], cex = size[i], ...):\n",
            "“font family 'Microsoft YaHei' not found, will use 'wqy-microhei' instead”\n",
            "Warning message in strheight(words[i], cex = size[i], ...):\n",
            "“font family 'Microsoft YaHei' not found, will use 'sans' instead”\n",
            "Warning message in text.default(x1, y1, words[i], cex = size[i], offset = 0, srt = rotWord * :\n",
            "“font family 'Microsoft YaHei' not found, will use 'wqy-microhei' instead”\n",
            "Warning message in text.default(x1, y1, words[i], cex = size[i], offset = 0, srt = rotWord * :\n",
            "“font family 'Microsoft YaHei' not found, will use 'wqy-microhei' instead”\n",
            "Warning message in text.default(x1, y1, words[i], cex = size[i], offset = 0, srt = rotWord * :\n",
            "“font family 'Microsoft YaHei' not found, will use 'wqy-microhei' instead”\n",
            "Warning message in text.default(x1, y1, words[i], cex = size[i], offset = 0, srt = rotWord * :\n",
            "“font family 'Microsoft YaHei' not found, will use 'wqy-microhei' instead”\n",
            "Warning message in strwidth(words[i], cex = size[i], ...):\n",
            "“font family 'Microsoft YaHei' not found, will use 'wqy-microhei' instead”\n",
            "Warning message in text.default(x1, y1, words[i], cex = size[i], offset = 0, srt = rotWord * :\n",
            "“font family 'Microsoft YaHei' not found, will use 'wqy-microhei' instead”\n",
            "Warning message in text.default(x1, y1, words[i], cex = size[i], offset = 0, srt = rotWord * :\n",
            "“font family 'Microsoft YaHei' not found, will use 'wqy-microhei' instead”\n",
            "Warning message in text.default(x1, y1, words[i], cex = size[i], offset = 0, srt = rotWord * :\n",
            "“font family 'Microsoft YaHei' not found, will use 'wqy-microhei' instead”\n",
            "Warning message in text.default(x1, y1, words[i], cex = size[i], offset = 0, srt = rotWord * :\n",
            "“font family 'Microsoft YaHei' not found, will use 'wqy-microhei' instead”\n",
            "Warning message in strwidth(words[i], cex = size[i], ...):\n",
            "“font family 'Microsoft YaHei' not found, will use 'wqy-microhei' instead”\n",
            "Warning message in text.default(x1, y1, words[i], cex = size[i], offset = 0, srt = rotWord * :\n",
            "“font family 'Microsoft YaHei' not found, will use 'wqy-microhei' instead”\n",
            "Warning message in text.default(x1, y1, words[i], cex = size[i], offset = 0, srt = rotWord * :\n",
            "“font family 'Microsoft YaHei' not found, will use 'wqy-microhei' instead”\n",
            "Warning message in text.default(x1, y1, words[i], cex = size[i], offset = 0, srt = rotWord * :\n",
            "“font family 'Microsoft YaHei' not found, will use 'wqy-microhei' instead”\n",
            "Warning message in text.default(x1, y1, words[i], cex = size[i], offset = 0, srt = rotWord * :\n",
            "“font family 'Microsoft YaHei' not found, will use 'wqy-microhei' instead”\n",
            "Warning message in text.default(x1, y1, words[i], cex = size[i], offset = 0, srt = rotWord * :\n",
            "“font family 'Microsoft YaHei' not found, will use 'wqy-microhei' instead”\n",
            "Warning message in strwidth(words[i], cex = size[i], ...):\n",
            "“font family 'Microsoft YaHei' not found, will use 'wqy-microhei' instead”\n",
            "Warning message in text.default(x1, y1, words[i], cex = size[i], offset = 0, srt = rotWord * :\n",
            "“font family 'Microsoft YaHei' not found, will use 'wqy-microhei' instead”\n",
            "Warning message in text.default(x1, y1, words[i], cex = size[i], offset = 0, srt = rotWord * :\n",
            "“font family 'Microsoft YaHei' not found, will use 'wqy-microhei' instead”\n",
            "Warning message in text.default(x1, y1, words[i], cex = size[i], offset = 0, srt = rotWord * :\n",
            "“font family 'Microsoft YaHei' not found, will use 'wqy-microhei' instead”\n",
            "Warning message in text.default(x1, y1, words[i], cex = size[i], offset = 0, srt = rotWord * :\n",
            "“font family 'Microsoft YaHei' not found, will use 'wqy-microhei' instead”\n",
            "Warning message in strwidth(words[i], cex = size[i], ...):\n",
            "“font family 'Microsoft YaHei' not found, will use 'wqy-microhei' instead”\n",
            "Warning message in text.default(x1, y1, words[i], cex = size[i], offset = 0, srt = rotWord * :\n",
            "“font family 'Microsoft YaHei' not found, will use 'wqy-microhei' instead”\n",
            "Warning message in text.default(x1, y1, words[i], cex = size[i], offset = 0, srt = rotWord * :\n",
            "“font family 'Microsoft YaHei' not found, will use 'wqy-microhei' instead”\n",
            "Warning message in text.default(x1, y1, words[i], cex = size[i], offset = 0, srt = rotWord * :\n",
            "“font family 'Microsoft YaHei' not found, will use 'wqy-microhei' instead”\n",
            "Warning message in text.default(x1, y1, words[i], cex = size[i], offset = 0, srt = rotWord * :\n",
            "“font family 'Microsoft YaHei' not found, will use 'wqy-microhei' instead”\n",
            "Warning message in strwidth(words[i], cex = size[i], ...):\n",
            "“font family 'Microsoft YaHei' not found, will use 'wqy-microhei' instead”\n",
            "Warning message in text.default(x1, y1, words[i], cex = size[i], offset = 0, srt = rotWord * :\n",
            "“font family 'Microsoft YaHei' not found, will use 'wqy-microhei' instead”\n",
            "Warning message in text.default(x1, y1, words[i], cex = size[i], offset = 0, srt = rotWord * :\n",
            "“font family 'Microsoft YaHei' not found, will use 'wqy-microhei' instead”\n",
            "Warning message in text.default(x1, y1, words[i], cex = size[i], offset = 0, srt = rotWord * :\n",
            "“font family 'Microsoft YaHei' not found, will use 'wqy-microhei' instead”\n",
            "Warning message in text.default(x1, y1, words[i], cex = size[i], offset = 0, srt = rotWord * :\n",
            "“font family 'Microsoft YaHei' not found, will use 'wqy-microhei' instead”\n",
            "Warning message in strwidth(words[i], cex = size[i], ...):\n",
            "“font family 'Microsoft YaHei' not found, will use 'wqy-microhei' instead”\n",
            "Warning message in text.default(x1, y1, words[i], cex = size[i], offset = 0, srt = rotWord * :\n",
            "“font family 'Microsoft YaHei' not found, will use 'wqy-microhei' instead”\n",
            "Warning message in text.default(x1, y1, words[i], cex = size[i], offset = 0, srt = rotWord * :\n",
            "“font family 'Microsoft YaHei' not found, will use 'wqy-microhei' instead”\n",
            "Warning message in text.default(x1, y1, words[i], cex = size[i], offset = 0, srt = rotWord * :\n",
            "“font family 'Microsoft YaHei' not found, will use 'wqy-microhei' instead”\n",
            "Warning message in text.default(x1, y1, words[i], cex = size[i], offset = 0, srt = rotWord * :\n",
            "“font family 'Microsoft YaHei' not found, will use 'wqy-microhei' instead”\n",
            "Warning message in strwidth(words[i], cex = size[i], ...):\n",
            "“font family 'Microsoft YaHei' not found, will use 'wqy-microhei' instead”\n",
            "Warning message in text.default(x1, y1, words[i], cex = size[i], offset = 0, srt = rotWord * :\n",
            "“font family 'Microsoft YaHei' not found, will use 'wqy-microhei' instead”\n",
            "Warning message in text.default(x1, y1, words[i], cex = size[i], offset = 0, srt = rotWord * :\n",
            "“font family 'Microsoft YaHei' not found, will use 'wqy-microhei' instead”\n",
            "Warning message in text.default(x1, y1, words[i], cex = size[i], offset = 0, srt = rotWord * :\n",
            "“font family 'Microsoft YaHei' not found, will use 'wqy-microhei' instead”\n",
            "Warning message in text.default(x1, y1, words[i], cex = size[i], offset = 0, srt = rotWord * :\n",
            "“font family 'Microsoft YaHei' not found, will use 'wqy-microhei' instead”\n",
            "Warning message in strwidth(words[i], cex = size[i], ...):\n",
            "“font family 'Microsoft YaHei' not found, will use 'wqy-microhei' instead”\n",
            "Warning message in text.default(x1, y1, words[i], cex = size[i], offset = 0, srt = rotWord * :\n",
            "“font family 'Microsoft YaHei' not found, will use 'wqy-microhei' instead”\n",
            "Warning message in text.default(x1, y1, words[i], cex = size[i], offset = 0, srt = rotWord * :\n",
            "“font family 'Microsoft YaHei' not found, will use 'wqy-microhei' instead”\n",
            "Warning message in text.default(x1, y1, words[i], cex = size[i], offset = 0, srt = rotWord * :\n",
            "“font family 'Microsoft YaHei' not found, will use 'wqy-microhei' instead”\n",
            "Warning message in text.default(x1, y1, words[i], cex = size[i], offset = 0, srt = rotWord * :\n",
            "“font family 'Microsoft YaHei' not found, will use 'wqy-microhei' instead”\n",
            "Warning message in text.default(x1, y1, words[i], cex = size[i], offset = 0, srt = rotWord * :\n",
            "“font family 'Microsoft YaHei' not found, will use 'wqy-microhei' instead”\n",
            "Warning message in text.default(x1, y1, words[i], cex = size[i], offset = 0, srt = rotWord * :\n",
            "“font family 'Microsoft YaHei' not found, will use 'wqy-microhei' instead”\n"
          ],
          "name": "stderr"
        },
        {
          "output_type": "display_data",
          "data": {
            "image/png": "[encoded data removed]",
            "text/plain": [
              "plot without title"
            ]
          },
          "metadata": {
            "tags": [],
            "image/png": {
              "width": 420,
              "height": 420
            }
          }
        }
      ]
    },
    {
      "cell_type": "code",
      "metadata": {
        "id": "qTj7B8XxUMR2"
      },
      "source": [
        ""
      ],
      "execution_count": 119,
      "outputs": []
    }
  ]
}