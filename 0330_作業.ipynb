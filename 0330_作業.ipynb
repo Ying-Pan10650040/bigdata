{
  "nbformat": 4,
  "nbformat_minor": 0,
  "metadata": {
    "colab": {
      "name": "0330_作業.ipynb",
      "provenance": [],
      "collapsed_sections": [],
      "include_colab_link": true
    },
    "kernelspec": {
      "name": "ir",
      "display_name": "R"
    }
  },
  "cells": [
    {
      "cell_type": "markdown",
      "metadata": {
        "id": "view-in-github",
        "colab_type": "text"
      },
      "source": [
        "<a href=\"https://colab.research.google.com/github/Ying-Pan10650040/bigdata/blob/main/0330_%E4%BD%9C%E6%A5%AD.ipynb\" target=\"_parent\"><img src=\"https://colab.research.google.com/assets/colab-badge.svg\" alt=\"Open In Colab\"/></a>"
      ]
    },
    {
      "cell_type": "code",
      "metadata": {
        "colab": {
          "base_uri": "https://localhost:8080/"
        },
        "id": "LxWGeQjPLaS8",
        "outputId": "bc4fddd6-9a7a-4f30-8c5a-3baec3a2de57"
      },
      "source": [
        "install.packages(\"rJava\")\n",
        "install.packages(\"jiebaR\")\n",
        "install.packages(\"tmcn\")\n",
        "install.packages(\"dplyr\")\n",
        "install.packages(\"lubridate\")\n",
        "install.packages(\"wordcloud\")\n",
        "install.packages(\"stringr\")"
      ],
      "execution_count": 1,
      "outputs": [
        {
          "output_type": "stream",
          "text": [
            "Installing package into ‘/usr/local/lib/R/site-library’\n",
            "(as ‘lib’ is unspecified)\n",
            "\n",
            "Installing package into ‘/usr/local/lib/R/site-library’\n",
            "(as ‘lib’ is unspecified)\n",
            "\n",
            "also installing the dependency ‘jiebaRD’\n",
            "\n",
            "\n",
            "Installing package into ‘/usr/local/lib/R/site-library’\n",
            "(as ‘lib’ is unspecified)\n",
            "\n",
            "Installing package into ‘/usr/local/lib/R/site-library’\n",
            "(as ‘lib’ is unspecified)\n",
            "\n",
            "Installing package into ‘/usr/local/lib/R/site-library’\n",
            "(as ‘lib’ is unspecified)\n",
            "\n",
            "Installing package into ‘/usr/local/lib/R/site-library’\n",
            "(as ‘lib’ is unspecified)\n",
            "\n",
            "Installing package into ‘/usr/local/lib/R/site-library’\n",
            "(as ‘lib’ is unspecified)\n",
            "\n"
          ],
          "name": "stderr"
        }
      ]
    },
    {
      "cell_type": "code",
      "metadata": {
        "colab": {
          "base_uri": "https://localhost:8080/"
        },
        "id": "bzL0Sh9cNG8P",
        "outputId": "75b7edc4-a08b-40a1-972a-a8a7050feffa"
      },
      "source": [
        "install.packages(\"Rwordseg\",repos=\"http://R-Forge.R-porject.org\")"
      ],
      "execution_count": 2,
      "outputs": [
        {
          "output_type": "stream",
          "text": [
            "Installing package into ‘/usr/local/lib/R/site-library’\n",
            "(as ‘lib’ is unspecified)\n",
            "\n",
            "Warning message:\n",
            "“unable to access index for repository http://R-Forge.R-porject.org/src/contrib:\n",
            "  cannot open URL 'http://R-Forge.R-porject.org/src/contrib/PACKAGES'”\n",
            "Warning message:\n",
            "“package ‘Rwordseg’ is not available for this version of R\n",
            "\n",
            "A version of this package for your version of R might be available elsewhere,\n",
            "see the ideas at\n",
            "https://cran.r-project.org/doc/manuals/r-patched/R-admin.html#Installing-packages”\n"
          ],
          "name": "stderr"
        }
      ]
    },
    {
      "cell_type": "code",
      "metadata": {
        "id": "BfNHNVMkNiIW",
        "colab": {
          "base_uri": "https://localhost:8080/"
        },
        "outputId": "22aa709b-6204-46c4-83fe-7a07e9c8e6dc"
      },
      "source": [
        "library(rJava)\n",
        "library(jiebaR)\n",
        "library(tmcn)\n",
        "library(dplyr)\n",
        "library(lubridate)\n",
        "library(wordcloud)\n",
        "library(stringr)"
      ],
      "execution_count": 3,
      "outputs": [
        {
          "output_type": "stream",
          "text": [
            "Loading required package: jiebaRD\n",
            "\n",
            "# tmcn Version: 0.2-13\n",
            "\n",
            "\n",
            "Attaching package: ‘dplyr’\n",
            "\n",
            "\n",
            "The following objects are masked from ‘package:stats’:\n",
            "\n",
            "    filter, lag\n",
            "\n",
            "\n",
            "The following objects are masked from ‘package:base’:\n",
            "\n",
            "    intersect, setdiff, setequal, union\n",
            "\n",
            "\n",
            "Warning message in system(\"timedatectl\", intern = TRUE):\n",
            "“running command 'timedatectl' had status 1”\n",
            "\n",
            "Attaching package: ‘lubridate’\n",
            "\n",
            "\n",
            "The following objects are masked from ‘package:base’:\n",
            "\n",
            "    date, intersect, setdiff, union\n",
            "\n",
            "\n",
            "Loading required package: RColorBrewer\n",
            "\n"
          ],
          "name": "stderr"
        }
      ]
    },
    {
      "cell_type": "code",
      "metadata": {
        "id": "B2aG-nBJN01B"
      },
      "source": [
        "# ｢大排長榮｣落幕！長賜輪擱淺點成Google打卡地標 還拿下5顆星評價\n",
        "content <- \"長榮海運大型貨櫃輪長賜輪在蘇伊士運河擱淺6天，堵住海運航線，導致超過300艘船隻大塞船，傳出每小時拖累全球貿易損失高達上百億美元，受到全球矚目，直到埃及時間29日下午3點多（台北時間29日晚間9點多）終於脫困，有人在Google上設定打卡點，還獲得了5顆星的評價。長賜輪已於台灣時間今天凌晨0時許抵達蘇伊士運河大苦湖（Great Bitter Lake）水域錨地。而長賜輪擱淺以來蘇伊士運河停擺，除了埃及政府全力動員盡快讓船隻脫困，歐美各國也都表達願提供技術援助，連負責挖開堤防泥沙的怪手也爆紅，駕駛不時在推特透露最新進展，最後更在推特上發文「幸福而且趕到解脫」，還向大家說「不客氣！」事故地點也被網友在Google上設打卡點，位置在北緯30.0317472度、東經32.576636度，性質為「旅遊景點」，其他網友則都給了5顆星的最高評價。而昨日長賜輪打直後，與河岸平行朝北方航行，同時鳴笛慶祝，現場工作人員開心歡呼，在運河畔的阿默爾村（Amer）村民也揮手向這艘正逐漸看得習慣的巨船道別，美國駐開羅使館在推特上表達祝賀，長賜輪為世界貿易帶來的緊張在歡聲鼓舞中落幕。對於長賜輪終於脫困，就連Google也加入慶祝的行列，在搜尋欄只要打上關鍵字「suez canal」（蘇伊士運河）、「ever given」（長賜號），搜尋後得出的結果，除了新聞時事以外，還可以在搜尋結果的最頂端看見一艘艘小巧可愛的貨船，正依序由右至左順暢通行，慶祝運河重新恢復交通。\""
      ],
      "execution_count": 4,
      "outputs": []
    },
    {
      "cell_type": "code",
      "metadata": {
        "colab": {
          "base_uri": "https://localhost:8080/",
          "height": 119
        },
        "id": "vT0hRQDiN8tz",
        "outputId": "822a7f11-b261-4877-d86b-dc0e049802c0"
      },
      "source": [
        "content"
      ],
      "execution_count": 5,
      "outputs": [
        {
          "output_type": "display_data",
          "data": {
            "text/plain": [
              "[1] \"長榮海運大型貨櫃輪長賜輪在蘇伊士運河擱淺6天，堵住海運航線，導致超過300艘船隻大塞船，傳出每小時拖累全球貿易損失高達上百億美元，受到全球矚目，直到埃及時間29日下午3點多（台北時間29日晚間9點多）終於脫困，有人在Google上設定打卡點，還獲得了5顆星的評價。長賜輪已於台灣時間今天凌晨0時許抵達蘇伊士運河大苦湖（Great Bitter Lake）水域錨地。而長賜輪擱淺以來蘇伊士運河停擺，除了埃及政府全力動員盡快讓船隻脫困，歐美各國也都表達願提供技術援助，連負責挖開堤防泥沙的怪手也爆紅，駕駛不時在推特透露最新進展，最後更在推特上發文「幸福而且趕到解脫」，還向大家說「不客氣！」事故地點也被網友在Google上設打卡點，位置在北緯30.0317472度、東經32.576636度，性質為「旅遊景點」，其他網友則都給了5顆星的最高評價。而昨日長賜輪打直後，與河岸平行朝北方航行，同時鳴笛慶祝，現場工作人員開心歡呼，在運河畔的阿默爾村（Amer）村民也揮手向這艘正逐漸看得習慣的巨船道別，美國駐開羅使館在推特上表達祝賀，長賜輪為世界貿易帶來的緊張在歡聲鼓舞中落幕。對於長賜輪終於脫困，就連Google也加入慶祝的行列，在搜尋欄只要打上關鍵字「suez canal」（蘇伊士運河）、「ever given」（長賜號），搜尋後得出的結果，除了新聞時事以外，還可以在搜尋結果的最頂端看見一艘艘小巧可愛的貨船，正依序由右至左順暢通行，慶祝運河重新恢復交通。\""
            ],
            "text/latex": "'長榮海運大型貨櫃輪長賜輪在蘇伊士運河擱淺6天，堵住海運航線，導致超過300艘船隻大塞船，傳出每小時拖累全球貿易損失高達上百億美元，受到全球矚目，直到埃及時間29日下午3點多（台北時間29日晚間9點多）終於脫困，有人在Google上設定打卡點，還獲得了5顆星的評價。長賜輪已於台灣時間今天凌晨0時許抵達蘇伊士運河大苦湖（Great Bitter Lake）水域錨地。而長賜輪擱淺以來蘇伊士運河停擺，除了埃及政府全力動員盡快讓船隻脫困，歐美各國也都表達願提供技術援助，連負責挖開堤防泥沙的怪手也爆紅，駕駛不時在推特透露最新進展，最後更在推特上發文「幸福而且趕到解脫」，還向大家說「不客氣！」事故地點也被網友在Google上設打卡點，位置在北緯30.0317472度、東經32.576636度，性質為「旅遊景點」，其他網友則都給了5顆星的最高評價。而昨日長賜輪打直後，與河岸平行朝北方航行，同時鳴笛慶祝，現場工作人員開心歡呼，在運河畔的阿默爾村（Amer）村民也揮手向這艘正逐漸看得習慣的巨船道別，美國駐開羅使館在推特上表達祝賀，長賜輪為世界貿易帶來的緊張在歡聲鼓舞中落幕。對於長賜輪終於脫困，就連Google也加入慶祝的行列，在搜尋欄只要打上關鍵字「suez canal」（蘇伊士運河）、「ever given」（長賜號），搜尋後得出的結果，除了新聞時事以外，還可以在搜尋結果的最頂端看見一艘艘小巧可愛的貨船，正依序由右至左順暢通行，慶祝運河重新恢復交通。'",
            "text/markdown": "'長榮海運大型貨櫃輪長賜輪在蘇伊士運河擱淺6天，堵住海運航線，導致超過300艘船隻大塞船，傳出每小時拖累全球貿易損失高達上百億美元，受到全球矚目，直到埃及時間29日下午3點多（台北時間29日晚間9點多）終於脫困，有人在Google上設定打卡點，還獲得了5顆星的評價。長賜輪已於台灣時間今天凌晨0時許抵達蘇伊士運河大苦湖（Great Bitter Lake）水域錨地。而長賜輪擱淺以來蘇伊士運河停擺，除了埃及政府全力動員盡快讓船隻脫困，歐美各國也都表達願提供技術援助，連負責挖開堤防泥沙的怪手也爆紅，駕駛不時在推特透露最新進展，最後更在推特上發文「幸福而且趕到解脫」，還向大家說「不客氣！」事故地點也被網友在Google上設打卡點，位置在北緯30.0317472度、東經32.576636度，性質為「旅遊景點」，其他網友則都給了5顆星的最高評價。而昨日長賜輪打直後，與河岸平行朝北方航行，同時鳴笛慶祝，現場工作人員開心歡呼，在運河畔的阿默爾村（Amer）村民也揮手向這艘正逐漸看得習慣的巨船道別，美國駐開羅使館在推特上表達祝賀，長賜輪為世界貿易帶來的緊張在歡聲鼓舞中落幕。對於長賜輪終於脫困，就連Google也加入慶祝的行列，在搜尋欄只要打上關鍵字「suez canal」（蘇伊士運河）、「ever given」（長賜號），搜尋後得出的結果，除了新聞時事以外，還可以在搜尋結果的最頂端看見一艘艘小巧可愛的貨船，正依序由右至左順暢通行，慶祝運河重新恢復交通。'",
            "text/html": [
              "'長榮海運大型貨櫃輪長賜輪在蘇伊士運河擱淺6天，堵住海運航線，導致超過300艘船隻大塞船，傳出每小時拖累全球貿易損失高達上百億美元，受到全球矚目，直到埃及時間29日下午3點多（台北時間29日晚間9點多）終於脫困，有人在Google上設定打卡點，還獲得了5顆星的評價。長賜輪已於台灣時間今天凌晨0時許抵達蘇伊士運河大苦湖（Great Bitter Lake）水域錨地。而長賜輪擱淺以來蘇伊士運河停擺，除了埃及政府全力動員盡快讓船隻脫困，歐美各國也都表達願提供技術援助，連負責挖開堤防泥沙的怪手也爆紅，駕駛不時在推特透露最新進展，最後更在推特上發文「幸福而且趕到解脫」，還向大家說「不客氣！」事故地點也被網友在Google上設打卡點，位置在北緯30.0317472度、東經32.576636度，性質為「旅遊景點」，其他網友則都給了5顆星的最高評價。而昨日長賜輪打直後，與河岸平行朝北方航行，同時鳴笛慶祝，現場工作人員開心歡呼，在運河畔的阿默爾村（Amer）村民也揮手向這艘正逐漸看得習慣的巨船道別，美國駐開羅使館在推特上表達祝賀，長賜輪為世界貿易帶來的緊張在歡聲鼓舞中落幕。對於長賜輪終於脫困，就連Google也加入慶祝的行列，在搜尋欄只要打上關鍵字「suez canal」（蘇伊士運河）、「ever given」（長賜號），搜尋後得出的結果，除了新聞時事以外，還可以在搜尋結果的最頂端看見一艘艘小巧可愛的貨船，正依序由右至左順暢通行，慶祝運河重新恢復交通。'"
            ]
          },
          "metadata": {
            "tags": []
          }
        }
      ]
    },
    {
      "cell_type": "code",
      "metadata": {
        "id": "C4MfUBhWN-sW"
      },
      "source": [
        "cutter <- worker(bylines = F)"
      ],
      "execution_count": 7,
      "outputs": []
    },
    {
      "cell_type": "code",
      "metadata": {
        "colab": {
          "base_uri": "https://localhost:8080/",
          "height": 170
        },
        "id": "Q-gFCEy0OL_u",
        "outputId": "d99b2ee8-8ece-4bf6-a3d1-b87397a92083"
      },
      "source": [
        "cutter[content]"
      ],
      "execution_count": 8,
      "outputs": [
        {
          "output_type": "display_data",
          "data": {
            "text/plain": [
              "  [1] \"長榮\"       \"海運\"       \"大型\"       \"貨櫃\"       \"輪長\"      \n",
              "  [6] \"賜\"         \"輪\"         \"在\"         \"蘇伊士運河\" \"擱淺\"      \n",
              " [11] \"6\"          \"天\"         \"堵住\"       \"海運\"       \"航線\"      \n",
              " [16] \"導致\"       \"超過\"       \"300\"        \"艘\"         \"船隻\"      \n",
              " [21] \"大塞船\"     \"傳出\"       \"每\"         \"小時\"       \"拖累\"      \n",
              " [26] \"全球\"       \"貿易\"       \"損失\"       \"高達\"       \"上\"        \n",
              " [31] \"百億美元\"   \"受到\"       \"全球\"       \"矚目\"       \"直到\"      \n",
              " [36] \"埃及\"       \"時間\"       \"29\"         \"日\"         \"下午\"      \n",
              " [41] \"3\"          \"點多\"       \"台北\"       \"時間\"       \"29\"        \n",
              " [46] \"日\"         \"晚間\"       \"9\"          \"點多\"       \"終於\"      \n",
              " [51] \"脫困\"       \"有人\"       \"在\"         \"Google\"     \"上\"        \n",
              " [56] \"設定\"       \"打卡\"       \"點\"         \"還\"         \"獲得\"      \n",
              " [61] \"了\"         \"5\"          \"顆星\"       \"的\"         \"評價\"      \n",
              " [66] \"長\"         \"賜\"         \"輪\"         \"已於\"       \"台灣\"      \n",
              " [71] \"時間\"       \"今天\"       \"凌晨\"       \"0\"          \"時許\"      \n",
              " [76] \"抵達\"       \"蘇伊士運河\" \"大苦湖\"     \"Great\"      \"Bitter\"    \n",
              " [81] \"Lake\"       \"水域\"       \"錨地\"       \"而長\"       \"賜\"        \n",
              " [86] \"輪\"         \"擱淺\"       \"以來\"       \"蘇伊士運河\" \"停擺\"      \n",
              " [91] \"除了\"       \"埃及政府\"   \"全力\"       \"動員\"       \"盡快\"      \n",
              " [96] \"讓\"         \"船隻\"       \"脫困\"       \"歐美各國\"   \"也\"        \n",
              "[101] \"都\"         \"表達\"       \"願\"         \"提供\"       \"技術\"      \n",
              "[106] \"援助\"       \"連\"         \"負責\"       \"挖開\"       \"堤防\"      \n",
              "[111] \"泥沙\"       \"的\"         \"怪手\"       \"也\"         \"爆紅\"      \n",
              "[116] \"駕駛\"       \"不時\"       \"在\"         \"推特\"       \"透露\"      \n",
              "[121] \"最新進展\"   \"最後\"       \"更\"         \"在\"         \"推特上\"    \n",
              "[126] \"發文\"       \"幸福\"       \"而且\"       \"趕到\"       \"解脫\"      \n",
              "[131] \"還向\"       \"大家\"       \"說\"         \"不\"         \"客氣\"      \n",
              "[136] \"事故\"       \"地點\"       \"也\"         \"被\"         \"網友\"      \n",
              "[141] \"在\"         \"Google\"     \"上設\"       \"打卡\"       \"點\"        \n",
              "[146] \"位置\"       \"在\"         \"北緯\"       \"30.0317472\" \"度\"        \n",
              "[151] \"東經\"       \"32.576636\"  \"度\"         \"性質\"       \"為\"        \n",
              "[156] \"旅遊景點\"   \"其他\"       \"網友\"       \"則都給\"     \"了\"        \n",
              "[161] \"5\"          \"顆星\"       \"的\"         \"最高\"       \"評價\"      \n",
              "[166] \"而\"         \"昨日\"       \"長\"         \"賜\"         \"輪\"        \n",
              "[171] \"打直\"       \"後\"         \"與\"         \"河岸\"       \"平行\"      \n",
              "[176] \"朝\"         \"北方\"       \"航行\"       \"同時\"       \"鳴笛\"      \n",
              "[181] \"慶祝\"       \"現場\"       \"工作人員\"   \"開心\"       \"歡呼\"      \n",
              "[186] \"在\"         \"運\"         \"河畔\"       \"的\"         \"阿\"        \n",
              "[191] \"默爾\"       \"村\"         \"Amer\"       \"村民\"       \"也\"        \n",
              "[196] \"揮手\"       \"向\"         \"這艘\"       \"正\"         \"逐漸\"      \n",
              "[201] \"看得\"       \"習慣\"       \"的\"         \"巨船\"       \"道別\"      \n",
              "[206] \"美國\"       \"駐\"         \"開羅\"       \"使館\"       \"在\"        \n",
              "[211] \"推特上\"     \"表達\"       \"祝賀\"       \"長\"         \"賜\"        \n",
              "[216] \"輪\"         \"為\"         \"世界\"       \"貿易\"       \"帶來\"      \n",
              "[221] \"的\"         \"緊張\"       \"在\"         \"歡聲\"       \"鼓舞\"      \n",
              "[226] \"中\"         \"落幕\"       \"對於\"       \"長\"         \"賜\"        \n",
              "[231] \"輪\"         \"終於\"       \"脫困\"       \"就連\"       \"Google\"    \n",
              "[236] \"也\"         \"加入\"       \"慶祝\"       \"的\"         \"行列\"      \n",
              "[241] \"在\"         \"搜尋\"       \"欄\"         \"只要\"       \"打上\"      \n",
              "[246] \"關鍵字\"     \"suez\"       \"canal\"      \"蘇伊士運河\" \"ever\"      \n",
              "[251] \"given\"      \"長\"         \"賜\"         \"號\"         \"搜尋\"      \n",
              "[256] \"後\"         \"得出\"       \"的\"         \"結果\"       \"除了\"      \n",
              "[261] \"新聞\"       \"時事\"       \"以外\"       \"還\"         \"可以\"      \n",
              "[266] \"在\"         \"搜尋\"       \"結果\"       \"的\"         \"最\"        \n",
              "[271] \"頂端\"       \"看見\"       \"一艘\"       \"艘\"         \"小巧\"      \n",
              "[276] \"可愛\"       \"的\"         \"貨船\"       \"正\"         \"依序\"      \n",
              "[281] \"由右\"       \"至\"         \"左\"         \"順暢\"       \"通行\"      \n",
              "[286] \"慶祝\"       \"運河\"       \"重新\"       \"恢復\"       \"交通\"      "
            ],
            "text/latex": "\\begin{enumerate*}\n\\item '長榮'\n\\item '海運'\n\\item '大型'\n\\item '貨櫃'\n\\item '輪長'\n\\item '賜'\n\\item '輪'\n\\item '在'\n\\item '蘇伊士運河'\n\\item '擱淺'\n\\item '6'\n\\item '天'\n\\item '堵住'\n\\item '海運'\n\\item '航線'\n\\item '導致'\n\\item '超過'\n\\item '300'\n\\item '艘'\n\\item '船隻'\n\\item '大塞船'\n\\item '傳出'\n\\item '每'\n\\item '小時'\n\\item '拖累'\n\\item '全球'\n\\item '貿易'\n\\item '損失'\n\\item '高達'\n\\item '上'\n\\item '百億美元'\n\\item '受到'\n\\item '全球'\n\\item '矚目'\n\\item '直到'\n\\item '埃及'\n\\item '時間'\n\\item '29'\n\\item '日'\n\\item '下午'\n\\item '3'\n\\item '點多'\n\\item '台北'\n\\item '時間'\n\\item '29'\n\\item '日'\n\\item '晚間'\n\\item '9'\n\\item '點多'\n\\item '終於'\n\\item '脫困'\n\\item '有人'\n\\item '在'\n\\item 'Google'\n\\item '上'\n\\item '設定'\n\\item '打卡'\n\\item '點'\n\\item '還'\n\\item '獲得'\n\\item '了'\n\\item '5'\n\\item '顆星'\n\\item '的'\n\\item '評價'\n\\item '長'\n\\item '賜'\n\\item '輪'\n\\item '已於'\n\\item '台灣'\n\\item '時間'\n\\item '今天'\n\\item '凌晨'\n\\item '0'\n\\item '時許'\n\\item '抵達'\n\\item '蘇伊士運河'\n\\item '大苦湖'\n\\item 'Great'\n\\item 'Bitter'\n\\item 'Lake'\n\\item '水域'\n\\item '錨地'\n\\item '而長'\n\\item '賜'\n\\item '輪'\n\\item '擱淺'\n\\item '以來'\n\\item '蘇伊士運河'\n\\item '停擺'\n\\item '除了'\n\\item '埃及政府'\n\\item '全力'\n\\item '動員'\n\\item '盡快'\n\\item '讓'\n\\item '船隻'\n\\item '脫困'\n\\item '歐美各國'\n\\item '也'\n\\item '都'\n\\item '表達'\n\\item '願'\n\\item '提供'\n\\item '技術'\n\\item '援助'\n\\item '連'\n\\item '負責'\n\\item '挖開'\n\\item '堤防'\n\\item '泥沙'\n\\item '的'\n\\item '怪手'\n\\item '也'\n\\item '爆紅'\n\\item '駕駛'\n\\item '不時'\n\\item '在'\n\\item '推特'\n\\item '透露'\n\\item '最新進展'\n\\item '最後'\n\\item '更'\n\\item '在'\n\\item '推特上'\n\\item '發文'\n\\item '幸福'\n\\item '而且'\n\\item '趕到'\n\\item '解脫'\n\\item '還向'\n\\item '大家'\n\\item '說'\n\\item '不'\n\\item '客氣'\n\\item '事故'\n\\item '地點'\n\\item '也'\n\\item '被'\n\\item '網友'\n\\item '在'\n\\item 'Google'\n\\item '上設'\n\\item '打卡'\n\\item '點'\n\\item '位置'\n\\item '在'\n\\item '北緯'\n\\item '30.0317472'\n\\item '度'\n\\item '東經'\n\\item '32.576636'\n\\item '度'\n\\item '性質'\n\\item '為'\n\\item '旅遊景點'\n\\item '其他'\n\\item '網友'\n\\item '則都給'\n\\item '了'\n\\item '5'\n\\item '顆星'\n\\item '的'\n\\item '最高'\n\\item '評價'\n\\item '而'\n\\item '昨日'\n\\item '長'\n\\item '賜'\n\\item '輪'\n\\item '打直'\n\\item '後'\n\\item '與'\n\\item '河岸'\n\\item '平行'\n\\item '朝'\n\\item '北方'\n\\item '航行'\n\\item '同時'\n\\item '鳴笛'\n\\item '慶祝'\n\\item '現場'\n\\item '工作人員'\n\\item '開心'\n\\item '歡呼'\n\\item '在'\n\\item '運'\n\\item '河畔'\n\\item '的'\n\\item '阿'\n\\item '默爾'\n\\item '村'\n\\item 'Amer'\n\\item '村民'\n\\item '也'\n\\item '揮手'\n\\item '向'\n\\item '這艘'\n\\item '正'\n\\item '逐漸'\n\\item '看得'\n\\item '習慣'\n\\item '的'\n\\item '巨船'\n\\item '道別'\n\\item '美國'\n\\item '駐'\n\\item '開羅'\n\\item '使館'\n\\item '在'\n\\item '推特上'\n\\item '表達'\n\\item '祝賀'\n\\item '長'\n\\item '賜'\n\\item '輪'\n\\item '為'\n\\item '世界'\n\\item '貿易'\n\\item '帶來'\n\\item '的'\n\\item '緊張'\n\\item '在'\n\\item '歡聲'\n\\item '鼓舞'\n\\item '中'\n\\item '落幕'\n\\item '對於'\n\\item '長'\n\\item '賜'\n\\item '輪'\n\\item '終於'\n\\item '脫困'\n\\item '就連'\n\\item 'Google'\n\\item '也'\n\\item '加入'\n\\item '慶祝'\n\\item '的'\n\\item '行列'\n\\item '在'\n\\item '搜尋'\n\\item '欄'\n\\item '只要'\n\\item '打上'\n\\item '關鍵字'\n\\item 'suez'\n\\item 'canal'\n\\item '蘇伊士運河'\n\\item 'ever'\n\\item 'given'\n\\item '長'\n\\item '賜'\n\\item '號'\n\\item '搜尋'\n\\item '後'\n\\item '得出'\n\\item '的'\n\\item '結果'\n\\item '除了'\n\\item '新聞'\n\\item '時事'\n\\item '以外'\n\\item '還'\n\\item '可以'\n\\item '在'\n\\item '搜尋'\n\\item '結果'\n\\item '的'\n\\item '最'\n\\item '頂端'\n\\item '看見'\n\\item '一艘'\n\\item '艘'\n\\item '小巧'\n\\item '可愛'\n\\item '的'\n\\item '貨船'\n\\item '正'\n\\item '依序'\n\\item '由右'\n\\item '至'\n\\item '左'\n\\item '順暢'\n\\item '通行'\n\\item '慶祝'\n\\item '運河'\n\\item '重新'\n\\item '恢復'\n\\item '交通'\n\\end{enumerate*}\n",
            "text/markdown": "1. '長榮'\n2. '海運'\n3. '大型'\n4. '貨櫃'\n5. '輪長'\n6. '賜'\n7. '輪'\n8. '在'\n9. '蘇伊士運河'\n10. '擱淺'\n11. '6'\n12. '天'\n13. '堵住'\n14. '海運'\n15. '航線'\n16. '導致'\n17. '超過'\n18. '300'\n19. '艘'\n20. '船隻'\n21. '大塞船'\n22. '傳出'\n23. '每'\n24. '小時'\n25. '拖累'\n26. '全球'\n27. '貿易'\n28. '損失'\n29. '高達'\n30. '上'\n31. '百億美元'\n32. '受到'\n33. '全球'\n34. '矚目'\n35. '直到'\n36. '埃及'\n37. '時間'\n38. '29'\n39. '日'\n40. '下午'\n41. '3'\n42. '點多'\n43. '台北'\n44. '時間'\n45. '29'\n46. '日'\n47. '晚間'\n48. '9'\n49. '點多'\n50. '終於'\n51. '脫困'\n52. '有人'\n53. '在'\n54. 'Google'\n55. '上'\n56. '設定'\n57. '打卡'\n58. '點'\n59. '還'\n60. '獲得'\n61. '了'\n62. '5'\n63. '顆星'\n64. '的'\n65. '評價'\n66. '長'\n67. '賜'\n68. '輪'\n69. '已於'\n70. '台灣'\n71. '時間'\n72. '今天'\n73. '凌晨'\n74. '0'\n75. '時許'\n76. '抵達'\n77. '蘇伊士運河'\n78. '大苦湖'\n79. 'Great'\n80. 'Bitter'\n81. 'Lake'\n82. '水域'\n83. '錨地'\n84. '而長'\n85. '賜'\n86. '輪'\n87. '擱淺'\n88. '以來'\n89. '蘇伊士運河'\n90. '停擺'\n91. '除了'\n92. '埃及政府'\n93. '全力'\n94. '動員'\n95. '盡快'\n96. '讓'\n97. '船隻'\n98. '脫困'\n99. '歐美各國'\n100. '也'\n101. '都'\n102. '表達'\n103. '願'\n104. '提供'\n105. '技術'\n106. '援助'\n107. '連'\n108. '負責'\n109. '挖開'\n110. '堤防'\n111. '泥沙'\n112. '的'\n113. '怪手'\n114. '也'\n115. '爆紅'\n116. '駕駛'\n117. '不時'\n118. '在'\n119. '推特'\n120. '透露'\n121. '最新進展'\n122. '最後'\n123. '更'\n124. '在'\n125. '推特上'\n126. '發文'\n127. '幸福'\n128. '而且'\n129. '趕到'\n130. '解脫'\n131. '還向'\n132. '大家'\n133. '說'\n134. '不'\n135. '客氣'\n136. '事故'\n137. '地點'\n138. '也'\n139. '被'\n140. '網友'\n141. '在'\n142. 'Google'\n143. '上設'\n144. '打卡'\n145. '點'\n146. '位置'\n147. '在'\n148. '北緯'\n149. '30.0317472'\n150. '度'\n151. '東經'\n152. '32.576636'\n153. '度'\n154. '性質'\n155. '為'\n156. '旅遊景點'\n157. '其他'\n158. '網友'\n159. '則都給'\n160. '了'\n161. '5'\n162. '顆星'\n163. '的'\n164. '最高'\n165. '評價'\n166. '而'\n167. '昨日'\n168. '長'\n169. '賜'\n170. '輪'\n171. '打直'\n172. '後'\n173. '與'\n174. '河岸'\n175. '平行'\n176. '朝'\n177. '北方'\n178. '航行'\n179. '同時'\n180. '鳴笛'\n181. '慶祝'\n182. '現場'\n183. '工作人員'\n184. '開心'\n185. '歡呼'\n186. '在'\n187. '運'\n188. '河畔'\n189. '的'\n190. '阿'\n191. '默爾'\n192. '村'\n193. 'Amer'\n194. '村民'\n195. '也'\n196. '揮手'\n197. '向'\n198. '這艘'\n199. '正'\n200. '逐漸'\n201. '看得'\n202. '習慣'\n203. '的'\n204. '巨船'\n205. '道別'\n206. '美國'\n207. '駐'\n208. '開羅'\n209. '使館'\n210. '在'\n211. '推特上'\n212. '表達'\n213. '祝賀'\n214. '長'\n215. '賜'\n216. '輪'\n217. '為'\n218. '世界'\n219. '貿易'\n220. '帶來'\n221. '的'\n222. '緊張'\n223. '在'\n224. '歡聲'\n225. '鼓舞'\n226. '中'\n227. '落幕'\n228. '對於'\n229. '長'\n230. '賜'\n231. '輪'\n232. '終於'\n233. '脫困'\n234. '就連'\n235. 'Google'\n236. '也'\n237. '加入'\n238. '慶祝'\n239. '的'\n240. '行列'\n241. '在'\n242. '搜尋'\n243. '欄'\n244. '只要'\n245. '打上'\n246. '關鍵字'\n247. 'suez'\n248. 'canal'\n249. '蘇伊士運河'\n250. 'ever'\n251. 'given'\n252. '長'\n253. '賜'\n254. '號'\n255. '搜尋'\n256. '後'\n257. '得出'\n258. '的'\n259. '結果'\n260. '除了'\n261. '新聞'\n262. '時事'\n263. '以外'\n264. '還'\n265. '可以'\n266. '在'\n267. '搜尋'\n268. '結果'\n269. '的'\n270. '最'\n271. '頂端'\n272. '看見'\n273. '一艘'\n274. '艘'\n275. '小巧'\n276. '可愛'\n277. '的'\n278. '貨船'\n279. '正'\n280. '依序'\n281. '由右'\n282. '至'\n283. '左'\n284. '順暢'\n285. '通行'\n286. '慶祝'\n287. '運河'\n288. '重新'\n289. '恢復'\n290. '交通'\n\n\n",
            "text/html": [
              "<style>\n",
              ".list-inline {list-style: none; margin:0; padding: 0}\n",
              ".list-inline>li {display: inline-block}\n",
              ".list-inline>li:not(:last-child)::after {content: \"\\00b7\"; padding: 0 .5ex}\n",
              "</style>\n",
              "<ol class=list-inline><li>'長榮'</li><li>'海運'</li><li>'大型'</li><li>'貨櫃'</li><li>'輪長'</li><li>'賜'</li><li>'輪'</li><li>'在'</li><li>'蘇伊士運河'</li><li>'擱淺'</li><li>'6'</li><li>'天'</li><li>'堵住'</li><li>'海運'</li><li>'航線'</li><li>'導致'</li><li>'超過'</li><li>'300'</li><li>'艘'</li><li>'船隻'</li><li>'大塞船'</li><li>'傳出'</li><li>'每'</li><li>'小時'</li><li>'拖累'</li><li>'全球'</li><li>'貿易'</li><li>'損失'</li><li>'高達'</li><li>'上'</li><li>'百億美元'</li><li>'受到'</li><li>'全球'</li><li>'矚目'</li><li>'直到'</li><li>'埃及'</li><li>'時間'</li><li>'29'</li><li>'日'</li><li>'下午'</li><li>'3'</li><li>'點多'</li><li>'台北'</li><li>'時間'</li><li>'29'</li><li>'日'</li><li>'晚間'</li><li>'9'</li><li>'點多'</li><li>'終於'</li><li>'脫困'</li><li>'有人'</li><li>'在'</li><li>'Google'</li><li>'上'</li><li>'設定'</li><li>'打卡'</li><li>'點'</li><li>'還'</li><li>'獲得'</li><li>'了'</li><li>'5'</li><li>'顆星'</li><li>'的'</li><li>'評價'</li><li>'長'</li><li>'賜'</li><li>'輪'</li><li>'已於'</li><li>'台灣'</li><li>'時間'</li><li>'今天'</li><li>'凌晨'</li><li>'0'</li><li>'時許'</li><li>'抵達'</li><li>'蘇伊士運河'</li><li>'大苦湖'</li><li>'Great'</li><li>'Bitter'</li><li>'Lake'</li><li>'水域'</li><li>'錨地'</li><li>'而長'</li><li>'賜'</li><li>'輪'</li><li>'擱淺'</li><li>'以來'</li><li>'蘇伊士運河'</li><li>'停擺'</li><li>'除了'</li><li>'埃及政府'</li><li>'全力'</li><li>'動員'</li><li>'盡快'</li><li>'讓'</li><li>'船隻'</li><li>'脫困'</li><li>'歐美各國'</li><li>'也'</li><li>'都'</li><li>'表達'</li><li>'願'</li><li>'提供'</li><li>'技術'</li><li>'援助'</li><li>'連'</li><li>'負責'</li><li>'挖開'</li><li>'堤防'</li><li>'泥沙'</li><li>'的'</li><li>'怪手'</li><li>'也'</li><li>'爆紅'</li><li>'駕駛'</li><li>'不時'</li><li>'在'</li><li>'推特'</li><li>'透露'</li><li>'最新進展'</li><li>'最後'</li><li>'更'</li><li>'在'</li><li>'推特上'</li><li>'發文'</li><li>'幸福'</li><li>'而且'</li><li>'趕到'</li><li>'解脫'</li><li>'還向'</li><li>'大家'</li><li>'說'</li><li>'不'</li><li>'客氣'</li><li>'事故'</li><li>'地點'</li><li>'也'</li><li>'被'</li><li>'網友'</li><li>'在'</li><li>'Google'</li><li>'上設'</li><li>'打卡'</li><li>'點'</li><li>'位置'</li><li>'在'</li><li>'北緯'</li><li>'30.0317472'</li><li>'度'</li><li>'東經'</li><li>'32.576636'</li><li>'度'</li><li>'性質'</li><li>'為'</li><li>'旅遊景點'</li><li>'其他'</li><li>'網友'</li><li>'則都給'</li><li>'了'</li><li>'5'</li><li>'顆星'</li><li>'的'</li><li>'最高'</li><li>'評價'</li><li>'而'</li><li>'昨日'</li><li>'長'</li><li>'賜'</li><li>'輪'</li><li>'打直'</li><li>'後'</li><li>'與'</li><li>'河岸'</li><li>'平行'</li><li>'朝'</li><li>'北方'</li><li>'航行'</li><li>'同時'</li><li>'鳴笛'</li><li>'慶祝'</li><li>'現場'</li><li>'工作人員'</li><li>'開心'</li><li>'歡呼'</li><li>'在'</li><li>'運'</li><li>'河畔'</li><li>'的'</li><li>'阿'</li><li>'默爾'</li><li>'村'</li><li>'Amer'</li><li>'村民'</li><li>'也'</li><li>'揮手'</li><li>'向'</li><li>'這艘'</li><li>'正'</li><li>'逐漸'</li><li>'看得'</li><li>'習慣'</li><li>'的'</li><li>'巨船'</li><li>'道別'</li><li>'美國'</li><li>'駐'</li><li>'開羅'</li><li>'使館'</li><li>'在'</li><li>'推特上'</li><li>'表達'</li><li>'祝賀'</li><li>'長'</li><li>'賜'</li><li>'輪'</li><li>'為'</li><li>'世界'</li><li>'貿易'</li><li>'帶來'</li><li>'的'</li><li>'緊張'</li><li>'在'</li><li>'歡聲'</li><li>'鼓舞'</li><li>'中'</li><li>'落幕'</li><li>'對於'</li><li>'長'</li><li>'賜'</li><li>'輪'</li><li>'終於'</li><li>'脫困'</li><li>'就連'</li><li>'Google'</li><li>'也'</li><li>'加入'</li><li>'慶祝'</li><li>'的'</li><li>'行列'</li><li>'在'</li><li>'搜尋'</li><li>'欄'</li><li>'只要'</li><li>'打上'</li><li>'關鍵字'</li><li>'suez'</li><li>'canal'</li><li>'蘇伊士運河'</li><li>'ever'</li><li>'given'</li><li>'長'</li><li>'賜'</li><li>'號'</li><li>'搜尋'</li><li>'後'</li><li>'得出'</li><li>'的'</li><li>'結果'</li><li>'除了'</li><li>'新聞'</li><li>'時事'</li><li>'以外'</li><li>'還'</li><li>'可以'</li><li>'在'</li><li>'搜尋'</li><li>'結果'</li><li>'的'</li><li>'最'</li><li>'頂端'</li><li>'看見'</li><li>'一艘'</li><li>'艘'</li><li>'小巧'</li><li>'可愛'</li><li>'的'</li><li>'貨船'</li><li>'正'</li><li>'依序'</li><li>'由右'</li><li>'至'</li><li>'左'</li><li>'順暢'</li><li>'通行'</li><li>'慶祝'</li><li>'運河'</li><li>'重新'</li><li>'恢復'</li><li>'交通'</li></ol>\n"
            ]
          },
          "metadata": {
            "tags": []
          }
        }
      ]
    },
    {
      "cell_type": "code",
      "metadata": {
        "id": "vKMDEuuBOhZe"
      },
      "source": [
        "new_words <- c(\"貨櫃輪\",\"長賜輪\",\"長賜號\",\"打卡點\",\"不客氣\",\"推特\",\"搜尋欄\",\"運河\",\"阿默爾村\")\n",
        "for (i in 1:length(new_words)) {\n",
        "  new_user_word(cutter,new_words[i])\n",
        "}"
      ],
      "execution_count": 12,
      "outputs": []
    },
    {
      "cell_type": "code",
      "metadata": {
        "colab": {
          "base_uri": "https://localhost:8080/",
          "height": 170
        },
        "id": "9PX_LqvuP6vv",
        "outputId": "3d69fbd1-accb-45d7-b460-6b2597da2c02"
      },
      "source": [
        "cutter[content]"
      ],
      "execution_count": 13,
      "outputs": [
        {
          "output_type": "display_data",
          "data": {
            "text/plain": [
              "  [1] \"長榮\"       \"海運\"       \"大型\"       \"貨櫃輪\"     \"長賜輪\"    \n",
              "  [6] \"在\"         \"蘇伊士運河\" \"擱淺\"       \"6\"          \"天\"        \n",
              " [11] \"堵住\"       \"海運\"       \"航線\"       \"導致\"       \"超過\"      \n",
              " [16] \"300\"        \"艘\"         \"船隻\"       \"大塞船\"     \"傳出\"      \n",
              " [21] \"每\"         \"小時\"       \"拖累\"       \"全球\"       \"貿易\"      \n",
              " [26] \"損失\"       \"高達\"       \"上\"         \"百億美元\"   \"受到\"      \n",
              " [31] \"全球\"       \"矚目\"       \"直到\"       \"埃及\"       \"時間\"      \n",
              " [36] \"29\"         \"日\"         \"下午\"       \"3\"          \"點多\"      \n",
              " [41] \"台北\"       \"時間\"       \"29\"         \"日\"         \"晚間\"      \n",
              " [46] \"9\"          \"點多\"       \"終於\"       \"脫困\"       \"有人\"      \n",
              " [51] \"在\"         \"Google\"     \"上\"         \"設定\"       \"打卡點\"    \n",
              " [56] \"還\"         \"獲得\"       \"了\"         \"5\"          \"顆星\"      \n",
              " [61] \"的\"         \"評價\"       \"長賜輪\"     \"已於\"       \"台灣\"      \n",
              " [66] \"時間\"       \"今天\"       \"凌晨\"       \"0\"          \"時許\"      \n",
              " [71] \"抵達\"       \"蘇伊士運河\" \"大苦湖\"     \"Great\"      \"Bitter\"    \n",
              " [76] \"Lake\"       \"水域\"       \"錨地\"       \"而\"         \"長賜輪\"    \n",
              " [81] \"擱淺\"       \"以來\"       \"蘇伊士運河\" \"停擺\"       \"除了\"      \n",
              " [86] \"埃及政府\"   \"全力\"       \"動員\"       \"盡快\"       \"讓\"        \n",
              " [91] \"船隻\"       \"脫困\"       \"歐美各國\"   \"也\"         \"都\"        \n",
              " [96] \"表達\"       \"願\"         \"提供\"       \"技術\"       \"援助\"      \n",
              "[101] \"連\"         \"負責\"       \"挖開\"       \"堤防\"       \"泥沙\"      \n",
              "[106] \"的\"         \"怪手\"       \"也\"         \"爆紅\"       \"駕駛\"      \n",
              "[111] \"不時\"       \"在\"         \"推特\"       \"透露\"       \"最新進展\"  \n",
              "[116] \"最後\"       \"更\"         \"在\"         \"推特\"       \"上\"        \n",
              "[121] \"發文\"       \"幸福\"       \"而且\"       \"趕到\"       \"解脫\"      \n",
              "[126] \"還向\"       \"大家\"       \"說\"         \"不客氣\"     \"事故\"      \n",
              "[131] \"地點\"       \"也\"         \"被\"         \"網友\"       \"在\"        \n",
              "[136] \"Google\"     \"上設\"       \"打卡點\"     \"位置\"       \"在\"        \n",
              "[141] \"北緯\"       \"30.0317472\" \"度\"         \"東經\"       \"32.576636\" \n",
              "[146] \"度\"         \"性質\"       \"為\"         \"旅遊景點\"   \"其他\"      \n",
              "[151] \"網友\"       \"則都給\"     \"了\"         \"5\"          \"顆星\"      \n",
              "[156] \"的\"         \"最高\"       \"評價\"       \"而\"         \"昨日\"      \n",
              "[161] \"長賜輪\"     \"打直\"       \"後\"         \"與\"         \"河岸\"      \n",
              "[166] \"平行\"       \"朝\"         \"北方\"       \"航行\"       \"同時\"      \n",
              "[171] \"鳴笛\"       \"慶祝\"       \"現場\"       \"工作人員\"   \"開心\"      \n",
              "[176] \"歡呼\"       \"在\"         \"運河\"       \"畔\"         \"的\"        \n",
              "[181] \"阿默爾村\"   \"Amer\"       \"村民\"       \"也\"         \"揮手\"      \n",
              "[186] \"向\"         \"這艘\"       \"正\"         \"逐漸\"       \"看得\"      \n",
              "[191] \"習慣\"       \"的\"         \"巨船\"       \"道別\"       \"美國\"      \n",
              "[196] \"駐\"         \"開羅\"       \"使館\"       \"在\"         \"推特\"      \n",
              "[201] \"上\"         \"表達\"       \"祝賀\"       \"長賜輪\"     \"為\"        \n",
              "[206] \"世界\"       \"貿易\"       \"帶來\"       \"的\"         \"緊張\"      \n",
              "[211] \"在\"         \"歡聲\"       \"鼓舞\"       \"中\"         \"落幕\"      \n",
              "[216] \"對於\"       \"長賜輪\"     \"終於\"       \"脫困\"       \"就連\"      \n",
              "[221] \"Google\"     \"也\"         \"加入\"       \"慶祝\"       \"的\"        \n",
              "[226] \"行列\"       \"在\"         \"搜尋欄\"     \"只要\"       \"打上\"      \n",
              "[231] \"關鍵字\"     \"suez\"       \"canal\"      \"蘇伊士運河\" \"ever\"      \n",
              "[236] \"given\"      \"長賜號\"     \"搜尋\"       \"後\"         \"得出\"      \n",
              "[241] \"的\"         \"結果\"       \"除了\"       \"新聞\"       \"時事\"      \n",
              "[246] \"以外\"       \"還\"         \"可以\"       \"在\"         \"搜尋\"      \n",
              "[251] \"結果\"       \"的\"         \"最\"         \"頂端\"       \"看見\"      \n",
              "[256] \"一艘\"       \"艘\"         \"小巧\"       \"可愛\"       \"的\"        \n",
              "[261] \"貨船\"       \"正\"         \"依序\"       \"由右\"       \"至\"        \n",
              "[266] \"左\"         \"順暢\"       \"通行\"       \"慶祝\"       \"運河\"      \n",
              "[271] \"重新\"       \"恢復\"       \"交通\"      "
            ],
            "text/latex": "\\begin{enumerate*}\n\\item '長榮'\n\\item '海運'\n\\item '大型'\n\\item '貨櫃輪'\n\\item '長賜輪'\n\\item '在'\n\\item '蘇伊士運河'\n\\item '擱淺'\n\\item '6'\n\\item '天'\n\\item '堵住'\n\\item '海運'\n\\item '航線'\n\\item '導致'\n\\item '超過'\n\\item '300'\n\\item '艘'\n\\item '船隻'\n\\item '大塞船'\n\\item '傳出'\n\\item '每'\n\\item '小時'\n\\item '拖累'\n\\item '全球'\n\\item '貿易'\n\\item '損失'\n\\item '高達'\n\\item '上'\n\\item '百億美元'\n\\item '受到'\n\\item '全球'\n\\item '矚目'\n\\item '直到'\n\\item '埃及'\n\\item '時間'\n\\item '29'\n\\item '日'\n\\item '下午'\n\\item '3'\n\\item '點多'\n\\item '台北'\n\\item '時間'\n\\item '29'\n\\item '日'\n\\item '晚間'\n\\item '9'\n\\item '點多'\n\\item '終於'\n\\item '脫困'\n\\item '有人'\n\\item '在'\n\\item 'Google'\n\\item '上'\n\\item '設定'\n\\item '打卡點'\n\\item '還'\n\\item '獲得'\n\\item '了'\n\\item '5'\n\\item '顆星'\n\\item '的'\n\\item '評價'\n\\item '長賜輪'\n\\item '已於'\n\\item '台灣'\n\\item '時間'\n\\item '今天'\n\\item '凌晨'\n\\item '0'\n\\item '時許'\n\\item '抵達'\n\\item '蘇伊士運河'\n\\item '大苦湖'\n\\item 'Great'\n\\item 'Bitter'\n\\item 'Lake'\n\\item '水域'\n\\item '錨地'\n\\item '而'\n\\item '長賜輪'\n\\item '擱淺'\n\\item '以來'\n\\item '蘇伊士運河'\n\\item '停擺'\n\\item '除了'\n\\item '埃及政府'\n\\item '全力'\n\\item '動員'\n\\item '盡快'\n\\item '讓'\n\\item '船隻'\n\\item '脫困'\n\\item '歐美各國'\n\\item '也'\n\\item '都'\n\\item '表達'\n\\item '願'\n\\item '提供'\n\\item '技術'\n\\item '援助'\n\\item '連'\n\\item '負責'\n\\item '挖開'\n\\item '堤防'\n\\item '泥沙'\n\\item '的'\n\\item '怪手'\n\\item '也'\n\\item '爆紅'\n\\item '駕駛'\n\\item '不時'\n\\item '在'\n\\item '推特'\n\\item '透露'\n\\item '最新進展'\n\\item '最後'\n\\item '更'\n\\item '在'\n\\item '推特'\n\\item '上'\n\\item '發文'\n\\item '幸福'\n\\item '而且'\n\\item '趕到'\n\\item '解脫'\n\\item '還向'\n\\item '大家'\n\\item '說'\n\\item '不客氣'\n\\item '事故'\n\\item '地點'\n\\item '也'\n\\item '被'\n\\item '網友'\n\\item '在'\n\\item 'Google'\n\\item '上設'\n\\item '打卡點'\n\\item '位置'\n\\item '在'\n\\item '北緯'\n\\item '30.0317472'\n\\item '度'\n\\item '東經'\n\\item '32.576636'\n\\item '度'\n\\item '性質'\n\\item '為'\n\\item '旅遊景點'\n\\item '其他'\n\\item '網友'\n\\item '則都給'\n\\item '了'\n\\item '5'\n\\item '顆星'\n\\item '的'\n\\item '最高'\n\\item '評價'\n\\item '而'\n\\item '昨日'\n\\item '長賜輪'\n\\item '打直'\n\\item '後'\n\\item '與'\n\\item '河岸'\n\\item '平行'\n\\item '朝'\n\\item '北方'\n\\item '航行'\n\\item '同時'\n\\item '鳴笛'\n\\item '慶祝'\n\\item '現場'\n\\item '工作人員'\n\\item '開心'\n\\item '歡呼'\n\\item '在'\n\\item '運河'\n\\item '畔'\n\\item '的'\n\\item '阿默爾村'\n\\item 'Amer'\n\\item '村民'\n\\item '也'\n\\item '揮手'\n\\item '向'\n\\item '這艘'\n\\item '正'\n\\item '逐漸'\n\\item '看得'\n\\item '習慣'\n\\item '的'\n\\item '巨船'\n\\item '道別'\n\\item '美國'\n\\item '駐'\n\\item '開羅'\n\\item '使館'\n\\item '在'\n\\item '推特'\n\\item '上'\n\\item '表達'\n\\item '祝賀'\n\\item '長賜輪'\n\\item '為'\n\\item '世界'\n\\item '貿易'\n\\item '帶來'\n\\item '的'\n\\item '緊張'\n\\item '在'\n\\item '歡聲'\n\\item '鼓舞'\n\\item '中'\n\\item '落幕'\n\\item '對於'\n\\item '長賜輪'\n\\item '終於'\n\\item '脫困'\n\\item '就連'\n\\item 'Google'\n\\item '也'\n\\item '加入'\n\\item '慶祝'\n\\item '的'\n\\item '行列'\n\\item '在'\n\\item '搜尋欄'\n\\item '只要'\n\\item '打上'\n\\item '關鍵字'\n\\item 'suez'\n\\item 'canal'\n\\item '蘇伊士運河'\n\\item 'ever'\n\\item 'given'\n\\item '長賜號'\n\\item '搜尋'\n\\item '後'\n\\item '得出'\n\\item '的'\n\\item '結果'\n\\item '除了'\n\\item '新聞'\n\\item '時事'\n\\item '以外'\n\\item '還'\n\\item '可以'\n\\item '在'\n\\item '搜尋'\n\\item '結果'\n\\item '的'\n\\item '最'\n\\item '頂端'\n\\item '看見'\n\\item '一艘'\n\\item '艘'\n\\item '小巧'\n\\item '可愛'\n\\item '的'\n\\item '貨船'\n\\item '正'\n\\item '依序'\n\\item '由右'\n\\item '至'\n\\item '左'\n\\item '順暢'\n\\item '通行'\n\\item '慶祝'\n\\item '運河'\n\\item '重新'\n\\item '恢復'\n\\item '交通'\n\\end{enumerate*}\n",
            "text/markdown": "1. '長榮'\n2. '海運'\n3. '大型'\n4. '貨櫃輪'\n5. '長賜輪'\n6. '在'\n7. '蘇伊士運河'\n8. '擱淺'\n9. '6'\n10. '天'\n11. '堵住'\n12. '海運'\n13. '航線'\n14. '導致'\n15. '超過'\n16. '300'\n17. '艘'\n18. '船隻'\n19. '大塞船'\n20. '傳出'\n21. '每'\n22. '小時'\n23. '拖累'\n24. '全球'\n25. '貿易'\n26. '損失'\n27. '高達'\n28. '上'\n29. '百億美元'\n30. '受到'\n31. '全球'\n32. '矚目'\n33. '直到'\n34. '埃及'\n35. '時間'\n36. '29'\n37. '日'\n38. '下午'\n39. '3'\n40. '點多'\n41. '台北'\n42. '時間'\n43. '29'\n44. '日'\n45. '晚間'\n46. '9'\n47. '點多'\n48. '終於'\n49. '脫困'\n50. '有人'\n51. '在'\n52. 'Google'\n53. '上'\n54. '設定'\n55. '打卡點'\n56. '還'\n57. '獲得'\n58. '了'\n59. '5'\n60. '顆星'\n61. '的'\n62. '評價'\n63. '長賜輪'\n64. '已於'\n65. '台灣'\n66. '時間'\n67. '今天'\n68. '凌晨'\n69. '0'\n70. '時許'\n71. '抵達'\n72. '蘇伊士運河'\n73. '大苦湖'\n74. 'Great'\n75. 'Bitter'\n76. 'Lake'\n77. '水域'\n78. '錨地'\n79. '而'\n80. '長賜輪'\n81. '擱淺'\n82. '以來'\n83. '蘇伊士運河'\n84. '停擺'\n85. '除了'\n86. '埃及政府'\n87. '全力'\n88. '動員'\n89. '盡快'\n90. '讓'\n91. '船隻'\n92. '脫困'\n93. '歐美各國'\n94. '也'\n95. '都'\n96. '表達'\n97. '願'\n98. '提供'\n99. '技術'\n100. '援助'\n101. '連'\n102. '負責'\n103. '挖開'\n104. '堤防'\n105. '泥沙'\n106. '的'\n107. '怪手'\n108. '也'\n109. '爆紅'\n110. '駕駛'\n111. '不時'\n112. '在'\n113. '推特'\n114. '透露'\n115. '最新進展'\n116. '最後'\n117. '更'\n118. '在'\n119. '推特'\n120. '上'\n121. '發文'\n122. '幸福'\n123. '而且'\n124. '趕到'\n125. '解脫'\n126. '還向'\n127. '大家'\n128. '說'\n129. '不客氣'\n130. '事故'\n131. '地點'\n132. '也'\n133. '被'\n134. '網友'\n135. '在'\n136. 'Google'\n137. '上設'\n138. '打卡點'\n139. '位置'\n140. '在'\n141. '北緯'\n142. '30.0317472'\n143. '度'\n144. '東經'\n145. '32.576636'\n146. '度'\n147. '性質'\n148. '為'\n149. '旅遊景點'\n150. '其他'\n151. '網友'\n152. '則都給'\n153. '了'\n154. '5'\n155. '顆星'\n156. '的'\n157. '最高'\n158. '評價'\n159. '而'\n160. '昨日'\n161. '長賜輪'\n162. '打直'\n163. '後'\n164. '與'\n165. '河岸'\n166. '平行'\n167. '朝'\n168. '北方'\n169. '航行'\n170. '同時'\n171. '鳴笛'\n172. '慶祝'\n173. '現場'\n174. '工作人員'\n175. '開心'\n176. '歡呼'\n177. '在'\n178. '運河'\n179. '畔'\n180. '的'\n181. '阿默爾村'\n182. 'Amer'\n183. '村民'\n184. '也'\n185. '揮手'\n186. '向'\n187. '這艘'\n188. '正'\n189. '逐漸'\n190. '看得'\n191. '習慣'\n192. '的'\n193. '巨船'\n194. '道別'\n195. '美國'\n196. '駐'\n197. '開羅'\n198. '使館'\n199. '在'\n200. '推特'\n201. '上'\n202. '表達'\n203. '祝賀'\n204. '長賜輪'\n205. '為'\n206. '世界'\n207. '貿易'\n208. '帶來'\n209. '的'\n210. '緊張'\n211. '在'\n212. '歡聲'\n213. '鼓舞'\n214. '中'\n215. '落幕'\n216. '對於'\n217. '長賜輪'\n218. '終於'\n219. '脫困'\n220. '就連'\n221. 'Google'\n222. '也'\n223. '加入'\n224. '慶祝'\n225. '的'\n226. '行列'\n227. '在'\n228. '搜尋欄'\n229. '只要'\n230. '打上'\n231. '關鍵字'\n232. 'suez'\n233. 'canal'\n234. '蘇伊士運河'\n235. 'ever'\n236. 'given'\n237. '長賜號'\n238. '搜尋'\n239. '後'\n240. '得出'\n241. '的'\n242. '結果'\n243. '除了'\n244. '新聞'\n245. '時事'\n246. '以外'\n247. '還'\n248. '可以'\n249. '在'\n250. '搜尋'\n251. '結果'\n252. '的'\n253. '最'\n254. '頂端'\n255. '看見'\n256. '一艘'\n257. '艘'\n258. '小巧'\n259. '可愛'\n260. '的'\n261. '貨船'\n262. '正'\n263. '依序'\n264. '由右'\n265. '至'\n266. '左'\n267. '順暢'\n268. '通行'\n269. '慶祝'\n270. '運河'\n271. '重新'\n272. '恢復'\n273. '交通'\n\n\n",
            "text/html": [
              "<style>\n",
              ".list-inline {list-style: none; margin:0; padding: 0}\n",
              ".list-inline>li {display: inline-block}\n",
              ".list-inline>li:not(:last-child)::after {content: \"\\00b7\"; padding: 0 .5ex}\n",
              "</style>\n",
              "<ol class=list-inline><li>'長榮'</li><li>'海運'</li><li>'大型'</li><li>'貨櫃輪'</li><li>'長賜輪'</li><li>'在'</li><li>'蘇伊士運河'</li><li>'擱淺'</li><li>'6'</li><li>'天'</li><li>'堵住'</li><li>'海運'</li><li>'航線'</li><li>'導致'</li><li>'超過'</li><li>'300'</li><li>'艘'</li><li>'船隻'</li><li>'大塞船'</li><li>'傳出'</li><li>'每'</li><li>'小時'</li><li>'拖累'</li><li>'全球'</li><li>'貿易'</li><li>'損失'</li><li>'高達'</li><li>'上'</li><li>'百億美元'</li><li>'受到'</li><li>'全球'</li><li>'矚目'</li><li>'直到'</li><li>'埃及'</li><li>'時間'</li><li>'29'</li><li>'日'</li><li>'下午'</li><li>'3'</li><li>'點多'</li><li>'台北'</li><li>'時間'</li><li>'29'</li><li>'日'</li><li>'晚間'</li><li>'9'</li><li>'點多'</li><li>'終於'</li><li>'脫困'</li><li>'有人'</li><li>'在'</li><li>'Google'</li><li>'上'</li><li>'設定'</li><li>'打卡點'</li><li>'還'</li><li>'獲得'</li><li>'了'</li><li>'5'</li><li>'顆星'</li><li>'的'</li><li>'評價'</li><li>'長賜輪'</li><li>'已於'</li><li>'台灣'</li><li>'時間'</li><li>'今天'</li><li>'凌晨'</li><li>'0'</li><li>'時許'</li><li>'抵達'</li><li>'蘇伊士運河'</li><li>'大苦湖'</li><li>'Great'</li><li>'Bitter'</li><li>'Lake'</li><li>'水域'</li><li>'錨地'</li><li>'而'</li><li>'長賜輪'</li><li>'擱淺'</li><li>'以來'</li><li>'蘇伊士運河'</li><li>'停擺'</li><li>'除了'</li><li>'埃及政府'</li><li>'全力'</li><li>'動員'</li><li>'盡快'</li><li>'讓'</li><li>'船隻'</li><li>'脫困'</li><li>'歐美各國'</li><li>'也'</li><li>'都'</li><li>'表達'</li><li>'願'</li><li>'提供'</li><li>'技術'</li><li>'援助'</li><li>'連'</li><li>'負責'</li><li>'挖開'</li><li>'堤防'</li><li>'泥沙'</li><li>'的'</li><li>'怪手'</li><li>'也'</li><li>'爆紅'</li><li>'駕駛'</li><li>'不時'</li><li>'在'</li><li>'推特'</li><li>'透露'</li><li>'最新進展'</li><li>'最後'</li><li>'更'</li><li>'在'</li><li>'推特'</li><li>'上'</li><li>'發文'</li><li>'幸福'</li><li>'而且'</li><li>'趕到'</li><li>'解脫'</li><li>'還向'</li><li>'大家'</li><li>'說'</li><li>'不客氣'</li><li>'事故'</li><li>'地點'</li><li>'也'</li><li>'被'</li><li>'網友'</li><li>'在'</li><li>'Google'</li><li>'上設'</li><li>'打卡點'</li><li>'位置'</li><li>'在'</li><li>'北緯'</li><li>'30.0317472'</li><li>'度'</li><li>'東經'</li><li>'32.576636'</li><li>'度'</li><li>'性質'</li><li>'為'</li><li>'旅遊景點'</li><li>'其他'</li><li>'網友'</li><li>'則都給'</li><li>'了'</li><li>'5'</li><li>'顆星'</li><li>'的'</li><li>'最高'</li><li>'評價'</li><li>'而'</li><li>'昨日'</li><li>'長賜輪'</li><li>'打直'</li><li>'後'</li><li>'與'</li><li>'河岸'</li><li>'平行'</li><li>'朝'</li><li>'北方'</li><li>'航行'</li><li>'同時'</li><li>'鳴笛'</li><li>'慶祝'</li><li>'現場'</li><li>'工作人員'</li><li>'開心'</li><li>'歡呼'</li><li>'在'</li><li>'運河'</li><li>'畔'</li><li>'的'</li><li>'阿默爾村'</li><li>'Amer'</li><li>'村民'</li><li>'也'</li><li>'揮手'</li><li>'向'</li><li>'這艘'</li><li>'正'</li><li>'逐漸'</li><li>'看得'</li><li>'習慣'</li><li>'的'</li><li>'巨船'</li><li>'道別'</li><li>'美國'</li><li>'駐'</li><li>'開羅'</li><li>'使館'</li><li>'在'</li><li>'推特'</li><li>'上'</li><li>'表達'</li><li>'祝賀'</li><li>'長賜輪'</li><li>'為'</li><li>'世界'</li><li>'貿易'</li><li>'帶來'</li><li>'的'</li><li>'緊張'</li><li>'在'</li><li>'歡聲'</li><li>'鼓舞'</li><li>'中'</li><li>'落幕'</li><li>'對於'</li><li>'長賜輪'</li><li>'終於'</li><li>'脫困'</li><li>'就連'</li><li>'Google'</li><li>'也'</li><li>'加入'</li><li>'慶祝'</li><li>'的'</li><li>'行列'</li><li>'在'</li><li>'搜尋欄'</li><li>'只要'</li><li>'打上'</li><li>'關鍵字'</li><li>'suez'</li><li>'canal'</li><li>'蘇伊士運河'</li><li>'ever'</li><li>'given'</li><li>'長賜號'</li><li>'搜尋'</li><li>'後'</li><li>'得出'</li><li>'的'</li><li>'結果'</li><li>'除了'</li><li>'新聞'</li><li>'時事'</li><li>'以外'</li><li>'還'</li><li>'可以'</li><li>'在'</li><li>'搜尋'</li><li>'結果'</li><li>'的'</li><li>'最'</li><li>'頂端'</li><li>'看見'</li><li>'一艘'</li><li>'艘'</li><li>'小巧'</li><li>'可愛'</li><li>'的'</li><li>'貨船'</li><li>'正'</li><li>'依序'</li><li>'由右'</li><li>'至'</li><li>'左'</li><li>'順暢'</li><li>'通行'</li><li>'慶祝'</li><li>'運河'</li><li>'重新'</li><li>'恢復'</li><li>'交通'</li></ol>\n"
            ]
          },
          "metadata": {
            "tags": []
          }
        }
      ]
    },
    {
      "cell_type": "code",
      "metadata": {
        "id": "tbp30G1hP8Lu"
      },
      "source": [
        "writeLines(new_words,\"new_words.txt\")"
      ],
      "execution_count": 14,
      "outputs": []
    },
    {
      "cell_type": "code",
      "metadata": {
        "id": "zh1W8EzsQVm9"
      },
      "source": [
        "stop_words <- c(\"在\",\"上\",\"日\",\"點\",\"還\",\"了\",\"而\",\"的\",\"度\",\"與\",\"也\",\"5\",\"艘\",\"正\",\"顆星\",\"為\",\"29\",\"點多\",\"後\")\n",
        "writeLines(stop_words,\"stop_words.txt\")"
      ],
      "execution_count": 39,
      "outputs": []
    },
    {
      "cell_type": "code",
      "metadata": {
        "colab": {
          "base_uri": "https://localhost:8080/",
          "height": 136
        },
        "id": "zzc3_TdnQ2UN",
        "outputId": "1ab27610-ff03-47ea-e31e-2f36f79cfb63"
      },
      "source": [
        "cutter <- worker(user = \"new_words.txt\",stop_word = \"stop_words.txt\", bylines = FALSE)\n",
        "seg_words <- cutter[content]\n",
        "seg_words"
      ],
      "execution_count": 40,
      "outputs": [
        {
          "output_type": "display_data",
          "data": {
            "text/plain": [
              "  [1] \"長榮\"       \"海運\"       \"大型\"       \"貨櫃輪\"     \"長賜輪\"    \n",
              "  [6] \"蘇伊士運河\" \"擱淺\"       \"6\"          \"天\"         \"堵住\"      \n",
              " [11] \"海運\"       \"航線\"       \"導致\"       \"超過\"       \"300\"       \n",
              " [16] \"船隻\"       \"大塞船\"     \"傳出\"       \"每\"         \"小時\"      \n",
              " [21] \"拖累\"       \"全球\"       \"貿易\"       \"損失\"       \"高達\"      \n",
              " [26] \"百億美元\"   \"受到\"       \"全球\"       \"矚目\"       \"直到\"      \n",
              " [31] \"埃及\"       \"時間\"       \"下午\"       \"3\"          \"台北\"      \n",
              " [36] \"時間\"       \"晚間\"       \"9\"          \"終於\"       \"脫困\"      \n",
              " [41] \"有人\"       \"Google\"     \"設定\"       \"打卡點\"     \"獲得\"      \n",
              " [46] \"評價\"       \"長賜輪\"     \"已於\"       \"台灣\"       \"時間\"      \n",
              " [51] \"今天\"       \"凌晨\"       \"0\"          \"時許\"       \"抵達\"      \n",
              " [56] \"蘇伊士運河\" \"大苦湖\"     \"Great\"      \"Bitter\"     \"Lake\"      \n",
              " [61] \"水域\"       \"錨地\"       \"長賜輪\"     \"擱淺\"       \"以來\"      \n",
              " [66] \"蘇伊士運河\" \"停擺\"       \"除了\"       \"埃及政府\"   \"全力\"      \n",
              " [71] \"動員\"       \"盡快\"       \"讓\"         \"船隻\"       \"脫困\"      \n",
              " [76] \"歐美各國\"   \"都\"         \"表達\"       \"願\"         \"提供\"      \n",
              " [81] \"技術\"       \"援助\"       \"連\"         \"負責\"       \"挖開\"      \n",
              " [86] \"堤防\"       \"泥沙\"       \"怪手\"       \"爆紅\"       \"駕駛\"      \n",
              " [91] \"不時\"       \"推特\"       \"透露\"       \"最新進展\"   \"最後\"      \n",
              " [96] \"更\"         \"推特\"       \"發文\"       \"幸福\"       \"而且\"      \n",
              "[101] \"趕到\"       \"解脫\"       \"還向\"       \"大家\"       \"說\"        \n",
              "[106] \"不客氣\"     \"事故\"       \"地點\"       \"被\"         \"網友\"      \n",
              "[111] \"Google\"     \"上設\"       \"打卡點\"     \"位置\"       \"北緯\"      \n",
              "[116] \"30.0317472\" \"東經\"       \"32.576636\"  \"性質\"       \"旅遊景點\"  \n",
              "[121] \"其他\"       \"網友\"       \"則都給\"     \"最高\"       \"評價\"      \n",
              "[126] \"昨日\"       \"長賜輪\"     \"打直\"       \"河岸\"       \"平行\"      \n",
              "[131] \"朝\"         \"北方\"       \"航行\"       \"同時\"       \"鳴笛\"      \n",
              "[136] \"慶祝\"       \"現場\"       \"工作人員\"   \"開心\"       \"歡呼\"      \n",
              "[141] \"運河\"       \"畔\"         \"阿默爾村\"   \"Amer\"       \"村民\"      \n",
              "[146] \"揮手\"       \"向\"         \"這艘\"       \"逐漸\"       \"看得\"      \n",
              "[151] \"習慣\"       \"巨船\"       \"道別\"       \"美國\"       \"駐\"        \n",
              "[156] \"開羅\"       \"使館\"       \"推特\"       \"表達\"       \"祝賀\"      \n",
              "[161] \"長賜輪\"     \"世界\"       \"貿易\"       \"帶來\"       \"緊張\"      \n",
              "[166] \"歡聲\"       \"鼓舞\"       \"中\"         \"落幕\"       \"對於\"      \n",
              "[171] \"長賜輪\"     \"終於\"       \"脫困\"       \"就連\"       \"Google\"    \n",
              "[176] \"加入\"       \"慶祝\"       \"行列\"       \"搜尋欄\"     \"只要\"      \n",
              "[181] \"打上\"       \"關鍵字\"     \"suez\"       \"canal\"      \"蘇伊士運河\"\n",
              "[186] \"ever\"       \"given\"      \"長賜號\"     \"搜尋\"       \"得出\"      \n",
              "[191] \"結果\"       \"除了\"       \"新聞\"       \"時事\"       \"以外\"      \n",
              "[196] \"可以\"       \"搜尋\"       \"結果\"       \"最\"         \"頂端\"      \n",
              "[201] \"看見\"       \"一艘\"       \"小巧\"       \"可愛\"       \"貨船\"      \n",
              "[206] \"依序\"       \"由右\"       \"至\"         \"左\"         \"順暢\"      \n",
              "[211] \"通行\"       \"慶祝\"       \"運河\"       \"重新\"       \"恢復\"      \n",
              "[216] \"交通\"      "
            ],
            "text/latex": "\\begin{enumerate*}\n\\item '長榮'\n\\item '海運'\n\\item '大型'\n\\item '貨櫃輪'\n\\item '長賜輪'\n\\item '蘇伊士運河'\n\\item '擱淺'\n\\item '6'\n\\item '天'\n\\item '堵住'\n\\item '海運'\n\\item '航線'\n\\item '導致'\n\\item '超過'\n\\item '300'\n\\item '船隻'\n\\item '大塞船'\n\\item '傳出'\n\\item '每'\n\\item '小時'\n\\item '拖累'\n\\item '全球'\n\\item '貿易'\n\\item '損失'\n\\item '高達'\n\\item '百億美元'\n\\item '受到'\n\\item '全球'\n\\item '矚目'\n\\item '直到'\n\\item '埃及'\n\\item '時間'\n\\item '下午'\n\\item '3'\n\\item '台北'\n\\item '時間'\n\\item '晚間'\n\\item '9'\n\\item '終於'\n\\item '脫困'\n\\item '有人'\n\\item 'Google'\n\\item '設定'\n\\item '打卡點'\n\\item '獲得'\n\\item '評價'\n\\item '長賜輪'\n\\item '已於'\n\\item '台灣'\n\\item '時間'\n\\item '今天'\n\\item '凌晨'\n\\item '0'\n\\item '時許'\n\\item '抵達'\n\\item '蘇伊士運河'\n\\item '大苦湖'\n\\item 'Great'\n\\item 'Bitter'\n\\item 'Lake'\n\\item '水域'\n\\item '錨地'\n\\item '長賜輪'\n\\item '擱淺'\n\\item '以來'\n\\item '蘇伊士運河'\n\\item '停擺'\n\\item '除了'\n\\item '埃及政府'\n\\item '全力'\n\\item '動員'\n\\item '盡快'\n\\item '讓'\n\\item '船隻'\n\\item '脫困'\n\\item '歐美各國'\n\\item '都'\n\\item '表達'\n\\item '願'\n\\item '提供'\n\\item '技術'\n\\item '援助'\n\\item '連'\n\\item '負責'\n\\item '挖開'\n\\item '堤防'\n\\item '泥沙'\n\\item '怪手'\n\\item '爆紅'\n\\item '駕駛'\n\\item '不時'\n\\item '推特'\n\\item '透露'\n\\item '最新進展'\n\\item '最後'\n\\item '更'\n\\item '推特'\n\\item '發文'\n\\item '幸福'\n\\item '而且'\n\\item '趕到'\n\\item '解脫'\n\\item '還向'\n\\item '大家'\n\\item '說'\n\\item '不客氣'\n\\item '事故'\n\\item '地點'\n\\item '被'\n\\item '網友'\n\\item 'Google'\n\\item '上設'\n\\item '打卡點'\n\\item '位置'\n\\item '北緯'\n\\item '30.0317472'\n\\item '東經'\n\\item '32.576636'\n\\item '性質'\n\\item '旅遊景點'\n\\item '其他'\n\\item '網友'\n\\item '則都給'\n\\item '最高'\n\\item '評價'\n\\item '昨日'\n\\item '長賜輪'\n\\item '打直'\n\\item '河岸'\n\\item '平行'\n\\item '朝'\n\\item '北方'\n\\item '航行'\n\\item '同時'\n\\item '鳴笛'\n\\item '慶祝'\n\\item '現場'\n\\item '工作人員'\n\\item '開心'\n\\item '歡呼'\n\\item '運河'\n\\item '畔'\n\\item '阿默爾村'\n\\item 'Amer'\n\\item '村民'\n\\item '揮手'\n\\item '向'\n\\item '這艘'\n\\item '逐漸'\n\\item '看得'\n\\item '習慣'\n\\item '巨船'\n\\item '道別'\n\\item '美國'\n\\item '駐'\n\\item '開羅'\n\\item '使館'\n\\item '推特'\n\\item '表達'\n\\item '祝賀'\n\\item '長賜輪'\n\\item '世界'\n\\item '貿易'\n\\item '帶來'\n\\item '緊張'\n\\item '歡聲'\n\\item '鼓舞'\n\\item '中'\n\\item '落幕'\n\\item '對於'\n\\item '長賜輪'\n\\item '終於'\n\\item '脫困'\n\\item '就連'\n\\item 'Google'\n\\item '加入'\n\\item '慶祝'\n\\item '行列'\n\\item '搜尋欄'\n\\item '只要'\n\\item '打上'\n\\item '關鍵字'\n\\item 'suez'\n\\item 'canal'\n\\item '蘇伊士運河'\n\\item 'ever'\n\\item 'given'\n\\item '長賜號'\n\\item '搜尋'\n\\item '得出'\n\\item '結果'\n\\item '除了'\n\\item '新聞'\n\\item '時事'\n\\item '以外'\n\\item '可以'\n\\item '搜尋'\n\\item '結果'\n\\item '最'\n\\item '頂端'\n\\item '看見'\n\\item '一艘'\n\\item '小巧'\n\\item '可愛'\n\\item '貨船'\n\\item '依序'\n\\item '由右'\n\\item '至'\n\\item '左'\n\\item '順暢'\n\\item '通行'\n\\item '慶祝'\n\\item '運河'\n\\item '重新'\n\\item '恢復'\n\\item '交通'\n\\end{enumerate*}\n",
            "text/markdown": "1. '長榮'\n2. '海運'\n3. '大型'\n4. '貨櫃輪'\n5. '長賜輪'\n6. '蘇伊士運河'\n7. '擱淺'\n8. '6'\n9. '天'\n10. '堵住'\n11. '海運'\n12. '航線'\n13. '導致'\n14. '超過'\n15. '300'\n16. '船隻'\n17. '大塞船'\n18. '傳出'\n19. '每'\n20. '小時'\n21. '拖累'\n22. '全球'\n23. '貿易'\n24. '損失'\n25. '高達'\n26. '百億美元'\n27. '受到'\n28. '全球'\n29. '矚目'\n30. '直到'\n31. '埃及'\n32. '時間'\n33. '下午'\n34. '3'\n35. '台北'\n36. '時間'\n37. '晚間'\n38. '9'\n39. '終於'\n40. '脫困'\n41. '有人'\n42. 'Google'\n43. '設定'\n44. '打卡點'\n45. '獲得'\n46. '評價'\n47. '長賜輪'\n48. '已於'\n49. '台灣'\n50. '時間'\n51. '今天'\n52. '凌晨'\n53. '0'\n54. '時許'\n55. '抵達'\n56. '蘇伊士運河'\n57. '大苦湖'\n58. 'Great'\n59. 'Bitter'\n60. 'Lake'\n61. '水域'\n62. '錨地'\n63. '長賜輪'\n64. '擱淺'\n65. '以來'\n66. '蘇伊士運河'\n67. '停擺'\n68. '除了'\n69. '埃及政府'\n70. '全力'\n71. '動員'\n72. '盡快'\n73. '讓'\n74. '船隻'\n75. '脫困'\n76. '歐美各國'\n77. '都'\n78. '表達'\n79. '願'\n80. '提供'\n81. '技術'\n82. '援助'\n83. '連'\n84. '負責'\n85. '挖開'\n86. '堤防'\n87. '泥沙'\n88. '怪手'\n89. '爆紅'\n90. '駕駛'\n91. '不時'\n92. '推特'\n93. '透露'\n94. '最新進展'\n95. '最後'\n96. '更'\n97. '推特'\n98. '發文'\n99. '幸福'\n100. '而且'\n101. '趕到'\n102. '解脫'\n103. '還向'\n104. '大家'\n105. '說'\n106. '不客氣'\n107. '事故'\n108. '地點'\n109. '被'\n110. '網友'\n111. 'Google'\n112. '上設'\n113. '打卡點'\n114. '位置'\n115. '北緯'\n116. '30.0317472'\n117. '東經'\n118. '32.576636'\n119. '性質'\n120. '旅遊景點'\n121. '其他'\n122. '網友'\n123. '則都給'\n124. '最高'\n125. '評價'\n126. '昨日'\n127. '長賜輪'\n128. '打直'\n129. '河岸'\n130. '平行'\n131. '朝'\n132. '北方'\n133. '航行'\n134. '同時'\n135. '鳴笛'\n136. '慶祝'\n137. '現場'\n138. '工作人員'\n139. '開心'\n140. '歡呼'\n141. '運河'\n142. '畔'\n143. '阿默爾村'\n144. 'Amer'\n145. '村民'\n146. '揮手'\n147. '向'\n148. '這艘'\n149. '逐漸'\n150. '看得'\n151. '習慣'\n152. '巨船'\n153. '道別'\n154. '美國'\n155. '駐'\n156. '開羅'\n157. '使館'\n158. '推特'\n159. '表達'\n160. '祝賀'\n161. '長賜輪'\n162. '世界'\n163. '貿易'\n164. '帶來'\n165. '緊張'\n166. '歡聲'\n167. '鼓舞'\n168. '中'\n169. '落幕'\n170. '對於'\n171. '長賜輪'\n172. '終於'\n173. '脫困'\n174. '就連'\n175. 'Google'\n176. '加入'\n177. '慶祝'\n178. '行列'\n179. '搜尋欄'\n180. '只要'\n181. '打上'\n182. '關鍵字'\n183. 'suez'\n184. 'canal'\n185. '蘇伊士運河'\n186. 'ever'\n187. 'given'\n188. '長賜號'\n189. '搜尋'\n190. '得出'\n191. '結果'\n192. '除了'\n193. '新聞'\n194. '時事'\n195. '以外'\n196. '可以'\n197. '搜尋'\n198. '結果'\n199. '最'\n200. '頂端'\n201. '看見'\n202. '一艘'\n203. '小巧'\n204. '可愛'\n205. '貨船'\n206. '依序'\n207. '由右'\n208. '至'\n209. '左'\n210. '順暢'\n211. '通行'\n212. '慶祝'\n213. '運河'\n214. '重新'\n215. '恢復'\n216. '交通'\n\n\n",
            "text/html": [
              "<style>\n",
              ".list-inline {list-style: none; margin:0; padding: 0}\n",
              ".list-inline>li {display: inline-block}\n",
              ".list-inline>li:not(:last-child)::after {content: \"\\00b7\"; padding: 0 .5ex}\n",
              "</style>\n",
              "<ol class=list-inline><li>'長榮'</li><li>'海運'</li><li>'大型'</li><li>'貨櫃輪'</li><li>'長賜輪'</li><li>'蘇伊士運河'</li><li>'擱淺'</li><li>'6'</li><li>'天'</li><li>'堵住'</li><li>'海運'</li><li>'航線'</li><li>'導致'</li><li>'超過'</li><li>'300'</li><li>'船隻'</li><li>'大塞船'</li><li>'傳出'</li><li>'每'</li><li>'小時'</li><li>'拖累'</li><li>'全球'</li><li>'貿易'</li><li>'損失'</li><li>'高達'</li><li>'百億美元'</li><li>'受到'</li><li>'全球'</li><li>'矚目'</li><li>'直到'</li><li>'埃及'</li><li>'時間'</li><li>'下午'</li><li>'3'</li><li>'台北'</li><li>'時間'</li><li>'晚間'</li><li>'9'</li><li>'終於'</li><li>'脫困'</li><li>'有人'</li><li>'Google'</li><li>'設定'</li><li>'打卡點'</li><li>'獲得'</li><li>'評價'</li><li>'長賜輪'</li><li>'已於'</li><li>'台灣'</li><li>'時間'</li><li>'今天'</li><li>'凌晨'</li><li>'0'</li><li>'時許'</li><li>'抵達'</li><li>'蘇伊士運河'</li><li>'大苦湖'</li><li>'Great'</li><li>'Bitter'</li><li>'Lake'</li><li>'水域'</li><li>'錨地'</li><li>'長賜輪'</li><li>'擱淺'</li><li>'以來'</li><li>'蘇伊士運河'</li><li>'停擺'</li><li>'除了'</li><li>'埃及政府'</li><li>'全力'</li><li>'動員'</li><li>'盡快'</li><li>'讓'</li><li>'船隻'</li><li>'脫困'</li><li>'歐美各國'</li><li>'都'</li><li>'表達'</li><li>'願'</li><li>'提供'</li><li>'技術'</li><li>'援助'</li><li>'連'</li><li>'負責'</li><li>'挖開'</li><li>'堤防'</li><li>'泥沙'</li><li>'怪手'</li><li>'爆紅'</li><li>'駕駛'</li><li>'不時'</li><li>'推特'</li><li>'透露'</li><li>'最新進展'</li><li>'最後'</li><li>'更'</li><li>'推特'</li><li>'發文'</li><li>'幸福'</li><li>'而且'</li><li>'趕到'</li><li>'解脫'</li><li>'還向'</li><li>'大家'</li><li>'說'</li><li>'不客氣'</li><li>'事故'</li><li>'地點'</li><li>'被'</li><li>'網友'</li><li>'Google'</li><li>'上設'</li><li>'打卡點'</li><li>'位置'</li><li>'北緯'</li><li>'30.0317472'</li><li>'東經'</li><li>'32.576636'</li><li>'性質'</li><li>'旅遊景點'</li><li>'其他'</li><li>'網友'</li><li>'則都給'</li><li>'最高'</li><li>'評價'</li><li>'昨日'</li><li>'長賜輪'</li><li>'打直'</li><li>'河岸'</li><li>'平行'</li><li>'朝'</li><li>'北方'</li><li>'航行'</li><li>'同時'</li><li>'鳴笛'</li><li>'慶祝'</li><li>'現場'</li><li>'工作人員'</li><li>'開心'</li><li>'歡呼'</li><li>'運河'</li><li>'畔'</li><li>'阿默爾村'</li><li>'Amer'</li><li>'村民'</li><li>'揮手'</li><li>'向'</li><li>'這艘'</li><li>'逐漸'</li><li>'看得'</li><li>'習慣'</li><li>'巨船'</li><li>'道別'</li><li>'美國'</li><li>'駐'</li><li>'開羅'</li><li>'使館'</li><li>'推特'</li><li>'表達'</li><li>'祝賀'</li><li>'長賜輪'</li><li>'世界'</li><li>'貿易'</li><li>'帶來'</li><li>'緊張'</li><li>'歡聲'</li><li>'鼓舞'</li><li>'中'</li><li>'落幕'</li><li>'對於'</li><li>'長賜輪'</li><li>'終於'</li><li>'脫困'</li><li>'就連'</li><li>'Google'</li><li>'加入'</li><li>'慶祝'</li><li>'行列'</li><li>'搜尋欄'</li><li>'只要'</li><li>'打上'</li><li>'關鍵字'</li><li>'suez'</li><li>'canal'</li><li>'蘇伊士運河'</li><li>'ever'</li><li>'given'</li><li>'長賜號'</li><li>'搜尋'</li><li>'得出'</li><li>'結果'</li><li>'除了'</li><li>'新聞'</li><li>'時事'</li><li>'以外'</li><li>'可以'</li><li>'搜尋'</li><li>'結果'</li><li>'最'</li><li>'頂端'</li><li>'看見'</li><li>'一艘'</li><li>'小巧'</li><li>'可愛'</li><li>'貨船'</li><li>'依序'</li><li>'由右'</li><li>'至'</li><li>'左'</li><li>'順暢'</li><li>'通行'</li><li>'慶祝'</li><li>'運河'</li><li>'重新'</li><li>'恢復'</li><li>'交通'</li></ol>\n"
            ]
          },
          "metadata": {
            "tags": []
          }
        }
      ]
    },
    {
      "cell_type": "code",
      "metadata": {
        "colab": {
          "base_uri": "https://localhost:8080/",
          "height": 283
        },
        "id": "3jO0TYTqRZgV",
        "outputId": "6b573c87-7d8c-4085-a955-ae8417ae5d29"
      },
      "source": [
        "txt_freq <- freq(seg_words)\n",
        "txt_freq <- arrange(txt_freq,desc(freq))\n",
        "head(txt_freq)"
      ],
      "execution_count": 41,
      "outputs": [
        {
          "output_type": "display_data",
          "data": {
            "text/plain": [
              "  char       freq\n",
              "1 長賜輪     6   \n",
              "2 蘇伊士運河 4   \n",
              "3 Google     3   \n",
              "4 脫困       3   \n",
              "5 時間       3   \n",
              "6 推特       3   "
            ],
            "text/latex": "A data.frame: 6 × 2\n\\begin{tabular}{r|ll}\n  & char & freq\\\\\n  & <chr> & <dbl>\\\\\n\\hline\n\t1 & 長賜輪     & 6\\\\\n\t2 & 蘇伊士運河 & 4\\\\\n\t3 & Google     & 3\\\\\n\t4 & 脫困       & 3\\\\\n\t5 & 時間       & 3\\\\\n\t6 & 推特       & 3\\\\\n\\end{tabular}\n",
            "text/markdown": "\nA data.frame: 6 × 2\n\n| <!--/--> | char &lt;chr&gt; | freq &lt;dbl&gt; |\n|---|---|---|\n| 1 | 長賜輪     | 6 |\n| 2 | 蘇伊士運河 | 4 |\n| 3 | Google     | 3 |\n| 4 | 脫困       | 3 |\n| 5 | 時間       | 3 |\n| 6 | 推特       | 3 |\n\n",
            "text/html": [
              "<table class=\"dataframe\">\n",
              "<caption>A data.frame: 6 × 2</caption>\n",
              "<thead>\n",
              "\t<tr><th></th><th scope=col>char</th><th scope=col>freq</th></tr>\n",
              "\t<tr><th></th><th scope=col>&lt;chr&gt;</th><th scope=col>&lt;dbl&gt;</th></tr>\n",
              "</thead>\n",
              "<tbody>\n",
              "\t<tr><th scope=row>1</th><td>長賜輪    </td><td>6</td></tr>\n",
              "\t<tr><th scope=row>2</th><td>蘇伊士運河</td><td>4</td></tr>\n",
              "\t<tr><th scope=row>3</th><td>Google    </td><td>3</td></tr>\n",
              "\t<tr><th scope=row>4</th><td>脫困      </td><td>3</td></tr>\n",
              "\t<tr><th scope=row>5</th><td>時間      </td><td>3</td></tr>\n",
              "\t<tr><th scope=row>6</th><td>推特      </td><td>3</td></tr>\n",
              "</tbody>\n",
              "</table>\n"
            ]
          },
          "metadata": {
            "tags": []
          }
        }
      ]
    },
    {
      "cell_type": "code",
      "metadata": {
        "colab": {
          "base_uri": "https://localhost:8080/"
        },
        "id": "2AjHw3DvW_6g",
        "outputId": "48c71206-01e7-40db-aa18-92ed03655633"
      },
      "source": [
        "install.packages(\"showtext\")"
      ],
      "execution_count": 31,
      "outputs": [
        {
          "output_type": "stream",
          "text": [
            "Installing package into ‘/usr/local/lib/R/site-library’\n",
            "(as ‘lib’ is unspecified)\n",
            "\n",
            "also installing the dependencies ‘sysfonts’, ‘showtextdb’\n",
            "\n",
            "\n"
          ],
          "name": "stderr"
        }
      ]
    },
    {
      "cell_type": "code",
      "metadata": {
        "colab": {
          "base_uri": "https://localhost:8080/"
        },
        "id": "saO_fvwXXYoH",
        "outputId": "f3b7009a-56a2-44a6-ce7c-09d6b8f2c5a2"
      },
      "source": [
        "library(showtext)"
      ],
      "execution_count": 32,
      "outputs": [
        {
          "output_type": "stream",
          "text": [
            "Loading required package: sysfonts\n",
            "\n",
            "Loading required package: showtextdb\n",
            "\n"
          ],
          "name": "stderr"
        }
      ]
    },
    {
      "cell_type": "code",
      "metadata": {
        "colab": {
          "base_uri": "https://localhost:8080/"
        },
        "id": "kgcM2N3JXwIG",
        "outputId": "7cb0e3bb-d793-48bb-ef32-fd1f4a90f66b"
      },
      "source": [
        "showtext.auto(enable = T)"
      ],
      "execution_count": 33,
      "outputs": [
        {
          "output_type": "stream",
          "text": [
            "'showtext.auto()' is now renamed to 'showtext_auto()'\n",
            "The old version still works, but consider using the new function in future code\n",
            "\n"
          ],
          "name": "stderr"
        }
      ]
    },
    {
      "cell_type": "code",
      "metadata": {
        "colab": {
          "base_uri": "https://localhost:8080/",
          "height": 1000
        },
        "id": "ad0YDgo-R5Js",
        "outputId": "4f6fcf3f-b218-4c0d-acea-f4c1d1a2bdd8"
      },
      "source": [
        "par(family = (\"Microsoft YaHei\"))\n",
        "wordcloud(txt_freq$char, txt_freq$freq, min.freq = 2,random.order = F,ordered.colors = F,colors = rainbow(nrow(txt_freq)))"
      ],
      "execution_count": 45,
      "outputs": [
        {
          "output_type": "stream",
          "text": [
            "Warning message in strwidth(words[i], cex = size[i], ...):\n",
            "“font family 'Microsoft YaHei' not found, will use 'wqy-microhei' instead”\n",
            "Warning message in strheight(words[i], cex = size[i], ...):\n",
            "“font family 'Microsoft YaHei' not found, will use 'sans' instead”\n",
            "Warning message in text.default(x1, y1, words[i], cex = size[i], offset = 0, srt = rotWord * :\n",
            "“font family 'Microsoft YaHei' not found, will use 'wqy-microhei' instead”\n",
            "Warning message in text.default(x1, y1, words[i], cex = size[i], offset = 0, srt = rotWord * :\n",
            "“font family 'Microsoft YaHei' not found, will use 'wqy-microhei' instead”\n",
            "Warning message in text.default(x1, y1, words[i], cex = size[i], offset = 0, srt = rotWord * :\n",
            "“font family 'Microsoft YaHei' not found, will use 'wqy-microhei' instead”\n",
            "Warning message in text.default(x1, y1, words[i], cex = size[i], offset = 0, srt = rotWord * :\n",
            "“font family 'Microsoft YaHei' not found, will use 'wqy-microhei' instead”\n",
            "Warning message in text.default(x1, y1, words[i], cex = size[i], offset = 0, srt = rotWord * :\n",
            "“font family 'Microsoft YaHei' not found, will use 'wqy-microhei' instead”\n",
            "Warning message in strwidth(words[i], cex = size[i], ...):\n",
            "“font family 'Microsoft YaHei' not found, will use 'wqy-microhei' instead”\n",
            "Warning message in strheight(words[i], cex = size[i], ...):\n",
            "“font family 'Microsoft YaHei' not found, will use 'sans' instead”\n",
            "Warning message in text.default(x1, y1, words[i], cex = size[i], offset = 0, srt = rotWord * :\n",
            "“font family 'Microsoft YaHei' not found, will use 'wqy-microhei' instead”\n",
            "Warning message in text.default(x1, y1, words[i], cex = size[i], offset = 0, srt = rotWord * :\n",
            "“font family 'Microsoft YaHei' not found, will use 'wqy-microhei' instead”\n",
            "Warning message in text.default(x1, y1, words[i], cex = size[i], offset = 0, srt = rotWord * :\n",
            "“font family 'Microsoft YaHei' not found, will use 'wqy-microhei' instead”\n",
            "Warning message in text.default(x1, y1, words[i], cex = size[i], offset = 0, srt = rotWord * :\n",
            "“font family 'Microsoft YaHei' not found, will use 'wqy-microhei' instead”\n",
            "Warning message in text.default(x1, y1, words[i], cex = size[i], offset = 0, srt = rotWord * :\n",
            "“font family 'Microsoft YaHei' not found, will use 'wqy-microhei' instead”\n",
            "Warning message in text.default(x1, y1, words[i], cex = size[i], offset = 0, srt = rotWord * :\n",
            "“font family 'Microsoft YaHei' not found, will use 'wqy-microhei' instead”\n",
            "Warning message in text.default(x1, y1, words[i], cex = size[i], offset = 0, srt = rotWord * :\n",
            "“font family 'Microsoft YaHei' not found, will use 'wqy-microhei' instead”\n",
            "Warning message in strwidth(words[i], cex = size[i], ...):\n",
            "“font family 'Microsoft YaHei' not found, will use 'sans' instead”\n",
            "Warning message in strheight(words[i], cex = size[i], ...):\n",
            "“font family 'Microsoft YaHei' not found, will use 'sans' instead”\n",
            "Warning message in text.default(x1, y1, words[i], cex = size[i], offset = 0, srt = rotWord * :\n",
            "“font family 'Microsoft YaHei' not found, will use 'sans' instead”\n",
            "Warning message in text.default(x1, y1, words[i], cex = size[i], offset = 0, srt = rotWord * :\n",
            "“font family 'Microsoft YaHei' not found, will use 'sans' instead”\n",
            "Warning message in text.default(x1, y1, words[i], cex = size[i], offset = 0, srt = rotWord * :\n",
            "“font family 'Microsoft YaHei' not found, will use 'sans' instead”\n",
            "Warning message in text.default(x1, y1, words[i], cex = size[i], offset = 0, srt = rotWord * :\n",
            "“font family 'Microsoft YaHei' not found, will use 'sans' instead”\n",
            "Warning message in text.default(x1, y1, words[i], cex = size[i], offset = 0, srt = rotWord * :\n",
            "“font family 'Microsoft YaHei' not found, will use 'sans' instead”\n",
            "Warning message in text.default(x1, y1, words[i], cex = size[i], offset = 0, srt = rotWord * :\n",
            "“font family 'Microsoft YaHei' not found, will use 'sans' instead”\n",
            "Warning message in text.default(x1, y1, words[i], cex = size[i], offset = 0, srt = rotWord * :\n",
            "“font family 'Microsoft YaHei' not found, will use 'sans' instead”\n",
            "Warning message in text.default(x1, y1, words[i], cex = size[i], offset = 0, srt = rotWord * :\n",
            "“font family 'Microsoft YaHei' not found, will use 'sans' instead”\n",
            "Warning message in strwidth(words[i], cex = size[i], ...):\n",
            "“font family 'Microsoft YaHei' not found, will use 'wqy-microhei' instead”\n",
            "Warning message in text.default(x1, y1, words[i], cex = size[i], offset = 0, srt = rotWord * :\n",
            "“font family 'Microsoft YaHei' not found, will use 'wqy-microhei' instead”\n",
            "Warning message in text.default(x1, y1, words[i], cex = size[i], offset = 0, srt = rotWord * :\n",
            "“font family 'Microsoft YaHei' not found, will use 'wqy-microhei' instead”\n",
            "Warning message in text.default(x1, y1, words[i], cex = size[i], offset = 0, srt = rotWord * :\n",
            "“font family 'Microsoft YaHei' not found, will use 'wqy-microhei' instead”\n",
            "Warning message in text.default(x1, y1, words[i], cex = size[i], offset = 0, srt = rotWord * :\n",
            "“font family 'Microsoft YaHei' not found, will use 'wqy-microhei' instead”\n",
            "Warning message in strwidth(words[i], cex = size[i], ...):\n",
            "“font family 'Microsoft YaHei' not found, will use 'wqy-microhei' instead”\n",
            "Warning message in text.default(x1, y1, words[i], cex = size[i], offset = 0, srt = rotWord * :\n",
            "“font family 'Microsoft YaHei' not found, will use 'wqy-microhei' instead”\n",
            "Warning message in text.default(x1, y1, words[i], cex = size[i], offset = 0, srt = rotWord * :\n",
            "“font family 'Microsoft YaHei' not found, will use 'wqy-microhei' instead”\n",
            "Warning message in text.default(x1, y1, words[i], cex = size[i], offset = 0, srt = rotWord * :\n",
            "“font family 'Microsoft YaHei' not found, will use 'wqy-microhei' instead”\n",
            "Warning message in text.default(x1, y1, words[i], cex = size[i], offset = 0, srt = rotWord * :\n",
            "“font family 'Microsoft YaHei' not found, will use 'wqy-microhei' instead”\n",
            "Warning message in strwidth(words[i], cex = size[i], ...):\n",
            "“font family 'Microsoft YaHei' not found, will use 'wqy-microhei' instead”\n",
            "Warning message in text.default(x1, y1, words[i], cex = size[i], offset = 0, srt = rotWord * :\n",
            "“font family 'Microsoft YaHei' not found, will use 'wqy-microhei' instead”\n",
            "Warning message in text.default(x1, y1, words[i], cex = size[i], offset = 0, srt = rotWord * :\n",
            "“font family 'Microsoft YaHei' not found, will use 'wqy-microhei' instead”\n",
            "Warning message in text.default(x1, y1, words[i], cex = size[i], offset = 0, srt = rotWord * :\n",
            "“font family 'Microsoft YaHei' not found, will use 'wqy-microhei' instead”\n",
            "Warning message in text.default(x1, y1, words[i], cex = size[i], offset = 0, srt = rotWord * :\n",
            "“font family 'Microsoft YaHei' not found, will use 'wqy-microhei' instead”\n",
            "Warning message in strwidth(words[i], cex = size[i], ...):\n",
            "“font family 'Microsoft YaHei' not found, will use 'wqy-microhei' instead”\n",
            "Warning message in text.default(x1, y1, words[i], cex = size[i], offset = 0, srt = rotWord * :\n",
            "“font family 'Microsoft YaHei' not found, will use 'wqy-microhei' instead”\n",
            "Warning message in text.default(x1, y1, words[i], cex = size[i], offset = 0, srt = rotWord * :\n",
            "“font family 'Microsoft YaHei' not found, will use 'wqy-microhei' instead”\n",
            "Warning message in text.default(x1, y1, words[i], cex = size[i], offset = 0, srt = rotWord * :\n",
            "“font family 'Microsoft YaHei' not found, will use 'wqy-microhei' instead”\n",
            "Warning message in text.default(x1, y1, words[i], cex = size[i], offset = 0, srt = rotWord * :\n",
            "“font family 'Microsoft YaHei' not found, will use 'wqy-microhei' instead”\n",
            "Warning message in strwidth(words[i], cex = size[i], ...):\n",
            "“font family 'Microsoft YaHei' not found, will use 'wqy-microhei' instead”\n",
            "Warning message in strheight(words[i], cex = size[i], ...):\n",
            "“font family 'Microsoft YaHei' not found, will use 'sans' instead”\n",
            "Warning message in text.default(x1, y1, words[i], cex = size[i], offset = 0, srt = rotWord * :\n",
            "“font family 'Microsoft YaHei' not found, will use 'wqy-microhei' instead”\n",
            "Warning message in text.default(x1, y1, words[i], cex = size[i], offset = 0, srt = rotWord * :\n",
            "“font family 'Microsoft YaHei' not found, will use 'wqy-microhei' instead”\n",
            "Warning message in text.default(x1, y1, words[i], cex = size[i], offset = 0, srt = rotWord * :\n",
            "“font family 'Microsoft YaHei' not found, will use 'wqy-microhei' instead”\n",
            "Warning message in text.default(x1, y1, words[i], cex = size[i], offset = 0, srt = rotWord * :\n",
            "“font family 'Microsoft YaHei' not found, will use 'wqy-microhei' instead”\n",
            "Warning message in text.default(x1, y1, words[i], cex = size[i], offset = 0, srt = rotWord * :\n",
            "“font family 'Microsoft YaHei' not found, will use 'wqy-microhei' instead”\n",
            "Warning message in strwidth(words[i], cex = size[i], ...):\n",
            "“font family 'Microsoft YaHei' not found, will use 'wqy-microhei' instead”\n",
            "Warning message in text.default(x1, y1, words[i], cex = size[i], offset = 0, srt = rotWord * :\n",
            "“font family 'Microsoft YaHei' not found, will use 'wqy-microhei' instead”\n",
            "Warning message in text.default(x1, y1, words[i], cex = size[i], offset = 0, srt = rotWord * :\n",
            "“font family 'Microsoft YaHei' not found, will use 'wqy-microhei' instead”\n",
            "Warning message in text.default(x1, y1, words[i], cex = size[i], offset = 0, srt = rotWord * :\n",
            "“font family 'Microsoft YaHei' not found, will use 'wqy-microhei' instead”\n",
            "Warning message in text.default(x1, y1, words[i], cex = size[i], offset = 0, srt = rotWord * :\n",
            "“font family 'Microsoft YaHei' not found, will use 'wqy-microhei' instead”\n",
            "Warning message in strwidth(words[i], cex = size[i], ...):\n",
            "“font family 'Microsoft YaHei' not found, will use 'wqy-microhei' instead”\n",
            "Warning message in text.default(x1, y1, words[i], cex = size[i], offset = 0, srt = rotWord * :\n",
            "“font family 'Microsoft YaHei' not found, will use 'wqy-microhei' instead”\n",
            "Warning message in text.default(x1, y1, words[i], cex = size[i], offset = 0, srt = rotWord * :\n",
            "“font family 'Microsoft YaHei' not found, will use 'wqy-microhei' instead”\n",
            "Warning message in text.default(x1, y1, words[i], cex = size[i], offset = 0, srt = rotWord * :\n",
            "“font family 'Microsoft YaHei' not found, will use 'wqy-microhei' instead”\n",
            "Warning message in text.default(x1, y1, words[i], cex = size[i], offset = 0, srt = rotWord * :\n",
            "“font family 'Microsoft YaHei' not found, will use 'wqy-microhei' instead”\n",
            "Warning message in strwidth(words[i], cex = size[i], ...):\n",
            "“font family 'Microsoft YaHei' not found, will use 'wqy-microhei' instead”\n",
            "Warning message in text.default(x1, y1, words[i], cex = size[i], offset = 0, srt = rotWord * :\n",
            "“font family 'Microsoft YaHei' not found, will use 'wqy-microhei' instead”\n",
            "Warning message in text.default(x1, y1, words[i], cex = size[i], offset = 0, srt = rotWord * :\n",
            "“font family 'Microsoft YaHei' not found, will use 'wqy-microhei' instead”\n",
            "Warning message in text.default(x1, y1, words[i], cex = size[i], offset = 0, srt = rotWord * :\n",
            "“font family 'Microsoft YaHei' not found, will use 'wqy-microhei' instead”\n",
            "Warning message in text.default(x1, y1, words[i], cex = size[i], offset = 0, srt = rotWord * :\n",
            "“font family 'Microsoft YaHei' not found, will use 'wqy-microhei' instead”\n",
            "Warning message in strwidth(words[i], cex = size[i], ...):\n",
            "“font family 'Microsoft YaHei' not found, will use 'wqy-microhei' instead”\n",
            "Warning message in text.default(x1, y1, words[i], cex = size[i], offset = 0, srt = rotWord * :\n",
            "“font family 'Microsoft YaHei' not found, will use 'wqy-microhei' instead”\n",
            "Warning message in text.default(x1, y1, words[i], cex = size[i], offset = 0, srt = rotWord * :\n",
            "“font family 'Microsoft YaHei' not found, will use 'wqy-microhei' instead”\n",
            "Warning message in text.default(x1, y1, words[i], cex = size[i], offset = 0, srt = rotWord * :\n",
            "“font family 'Microsoft YaHei' not found, will use 'wqy-microhei' instead”\n",
            "Warning message in text.default(x1, y1, words[i], cex = size[i], offset = 0, srt = rotWord * :\n",
            "“font family 'Microsoft YaHei' not found, will use 'wqy-microhei' instead”\n",
            "Warning message in strwidth(words[i], cex = size[i], ...):\n",
            "“font family 'Microsoft YaHei' not found, will use 'wqy-microhei' instead”\n",
            "Warning message in text.default(x1, y1, words[i], cex = size[i], offset = 0, srt = rotWord * :\n",
            "“font family 'Microsoft YaHei' not found, will use 'wqy-microhei' instead”\n",
            "Warning message in text.default(x1, y1, words[i], cex = size[i], offset = 0, srt = rotWord * :\n",
            "“font family 'Microsoft YaHei' not found, will use 'wqy-microhei' instead”\n",
            "Warning message in text.default(x1, y1, words[i], cex = size[i], offset = 0, srt = rotWord * :\n",
            "“font family 'Microsoft YaHei' not found, will use 'wqy-microhei' instead”\n",
            "Warning message in text.default(x1, y1, words[i], cex = size[i], offset = 0, srt = rotWord * :\n",
            "“font family 'Microsoft YaHei' not found, will use 'wqy-microhei' instead”\n",
            "Warning message in strwidth(words[i], cex = size[i], ...):\n",
            "“font family 'Microsoft YaHei' not found, will use 'wqy-microhei' instead”\n",
            "Warning message in text.default(x1, y1, words[i], cex = size[i], offset = 0, srt = rotWord * :\n",
            "“font family 'Microsoft YaHei' not found, will use 'wqy-microhei' instead”\n",
            "Warning message in text.default(x1, y1, words[i], cex = size[i], offset = 0, srt = rotWord * :\n",
            "“font family 'Microsoft YaHei' not found, will use 'wqy-microhei' instead”\n",
            "Warning message in text.default(x1, y1, words[i], cex = size[i], offset = 0, srt = rotWord * :\n",
            "“font family 'Microsoft YaHei' not found, will use 'wqy-microhei' instead”\n",
            "Warning message in text.default(x1, y1, words[i], cex = size[i], offset = 0, srt = rotWord * :\n",
            "“font family 'Microsoft YaHei' not found, will use 'wqy-microhei' instead”\n",
            "Warning message in strwidth(words[i], cex = size[i], ...):\n",
            "“font family 'Microsoft YaHei' not found, will use 'wqy-microhei' instead”\n",
            "Warning message in text.default(x1, y1, words[i], cex = size[i], offset = 0, srt = rotWord * :\n",
            "“font family 'Microsoft YaHei' not found, will use 'wqy-microhei' instead”\n",
            "Warning message in text.default(x1, y1, words[i], cex = size[i], offset = 0, srt = rotWord * :\n",
            "“font family 'Microsoft YaHei' not found, will use 'wqy-microhei' instead”\n",
            "Warning message in text.default(x1, y1, words[i], cex = size[i], offset = 0, srt = rotWord * :\n",
            "“font family 'Microsoft YaHei' not found, will use 'wqy-microhei' instead”\n",
            "Warning message in text.default(x1, y1, words[i], cex = size[i], offset = 0, srt = rotWord * :\n",
            "“font family 'Microsoft YaHei' not found, will use 'wqy-microhei' instead”\n",
            "Warning message in strwidth(words[i], cex = size[i], ...):\n",
            "“font family 'Microsoft YaHei' not found, will use 'wqy-microhei' instead”\n",
            "Warning message in text.default(x1, y1, words[i], cex = size[i], offset = 0, srt = rotWord * :\n",
            "“font family 'Microsoft YaHei' not found, will use 'wqy-microhei' instead”\n",
            "Warning message in text.default(x1, y1, words[i], cex = size[i], offset = 0, srt = rotWord * :\n",
            "“font family 'Microsoft YaHei' not found, will use 'wqy-microhei' instead”\n",
            "Warning message in text.default(x1, y1, words[i], cex = size[i], offset = 0, srt = rotWord * :\n",
            "“font family 'Microsoft YaHei' not found, will use 'wqy-microhei' instead”\n",
            "Warning message in text.default(x1, y1, words[i], cex = size[i], offset = 0, srt = rotWord * :\n",
            "“font family 'Microsoft YaHei' not found, will use 'wqy-microhei' instead”\n",
            "Warning message in strwidth(words[i], cex = size[i], ...):\n",
            "“font family 'Microsoft YaHei' not found, will use 'wqy-microhei' instead”\n",
            "Warning message in text.default(x1, y1, words[i], cex = size[i], offset = 0, srt = rotWord * :\n",
            "“font family 'Microsoft YaHei' not found, will use 'wqy-microhei' instead”\n",
            "Warning message in text.default(x1, y1, words[i], cex = size[i], offset = 0, srt = rotWord * :\n",
            "“font family 'Microsoft YaHei' not found, will use 'wqy-microhei' instead”\n",
            "Warning message in text.default(x1, y1, words[i], cex = size[i], offset = 0, srt = rotWord * :\n",
            "“font family 'Microsoft YaHei' not found, will use 'wqy-microhei' instead”\n",
            "Warning message in text.default(x1, y1, words[i], cex = size[i], offset = 0, srt = rotWord * :\n",
            "“font family 'Microsoft YaHei' not found, will use 'wqy-microhei' instead”\n",
            "Warning message in strwidth(words[i], cex = size[i], ...):\n",
            "“font family 'Microsoft YaHei' not found, will use 'wqy-microhei' instead”\n",
            "Warning message in text.default(x1, y1, words[i], cex = size[i], offset = 0, srt = rotWord * :\n",
            "“font family 'Microsoft YaHei' not found, will use 'wqy-microhei' instead”\n",
            "Warning message in text.default(x1, y1, words[i], cex = size[i], offset = 0, srt = rotWord * :\n",
            "“font family 'Microsoft YaHei' not found, will use 'wqy-microhei' instead”\n",
            "Warning message in text.default(x1, y1, words[i], cex = size[i], offset = 0, srt = rotWord * :\n",
            "“font family 'Microsoft YaHei' not found, will use 'wqy-microhei' instead”\n",
            "Warning message in text.default(x1, y1, words[i], cex = size[i], offset = 0, srt = rotWord * :\n",
            "“font family 'Microsoft YaHei' not found, will use 'wqy-microhei' instead”\n",
            "Warning message in strwidth(words[i], cex = size[i], ...):\n",
            "“font family 'Microsoft YaHei' not found, will use 'wqy-microhei' instead”\n",
            "Warning message in text.default(x1, y1, words[i], cex = size[i], offset = 0, srt = rotWord * :\n",
            "“font family 'Microsoft YaHei' not found, will use 'wqy-microhei' instead”\n",
            "Warning message in text.default(x1, y1, words[i], cex = size[i], offset = 0, srt = rotWord * :\n",
            "“font family 'Microsoft YaHei' not found, will use 'wqy-microhei' instead”\n",
            "Warning message in text.default(x1, y1, words[i], cex = size[i], offset = 0, srt = rotWord * :\n",
            "“font family 'Microsoft YaHei' not found, will use 'wqy-microhei' instead”\n",
            "Warning message in text.default(x1, y1, words[i], cex = size[i], offset = 0, srt = rotWord * :\n",
            "“font family 'Microsoft YaHei' not found, will use 'wqy-microhei' instead”\n",
            "Warning message in strwidth(words[i], cex = size[i], ...):\n",
            "“font family 'Microsoft YaHei' not found, will use 'wqy-microhei' instead”\n",
            "Warning message in text.default(x1, y1, words[i], cex = size[i], offset = 0, srt = rotWord * :\n",
            "“font family 'Microsoft YaHei' not found, will use 'wqy-microhei' instead”\n",
            "Warning message in text.default(x1, y1, words[i], cex = size[i], offset = 0, srt = rotWord * :\n",
            "“font family 'Microsoft YaHei' not found, will use 'wqy-microhei' instead”\n",
            "Warning message in text.default(x1, y1, words[i], cex = size[i], offset = 0, srt = rotWord * :\n",
            "“font family 'Microsoft YaHei' not found, will use 'wqy-microhei' instead”\n",
            "Warning message in text.default(x1, y1, words[i], cex = size[i], offset = 0, srt = rotWord * :\n",
            "“font family 'Microsoft YaHei' not found, will use 'wqy-microhei' instead”\n",
            "Warning message in strwidth(words[i], cex = size[i], ...):\n",
            "“font family 'Microsoft YaHei' not found, will use 'wqy-microhei' instead”\n",
            "Warning message in text.default(x1, y1, words[i], cex = size[i], offset = 0, srt = rotWord * :\n",
            "“font family 'Microsoft YaHei' not found, will use 'wqy-microhei' instead”\n",
            "Warning message in text.default(x1, y1, words[i], cex = size[i], offset = 0, srt = rotWord * :\n",
            "“font family 'Microsoft YaHei' not found, will use 'wqy-microhei' instead”\n",
            "Warning message in text.default(x1, y1, words[i], cex = size[i], offset = 0, srt = rotWord * :\n",
            "“font family 'Microsoft YaHei' not found, will use 'wqy-microhei' instead”\n",
            "Warning message in text.default(x1, y1, words[i], cex = size[i], offset = 0, srt = rotWord * :\n",
            "“font family 'Microsoft YaHei' not found, will use 'wqy-microhei' instead”\n"
          ],
          "name": "stderr"
        },
        {
          "output_type": "display_data",
          "data": {
            "image/png": "[encoded data removed]",
            "text/plain": [
              "plot without title"
            ]
          },
          "metadata": {
            "tags": [],
            "image/png": {
              "width": 420,
              "height": 420
            }
          }
        }
      ]
    }
  ]
}